{
 "cells": [
  {
   "cell_type": "code",
   "execution_count": 1,
   "id": "bd67b90c",
   "metadata": {},
   "outputs": [],
   "source": [
    "import nest_asyncio\n",
    "nest_asyncio.apply()"
   ]
  },
  {
   "cell_type": "code",
   "execution_count": 6,
   "id": "e9a12858",
   "metadata": {},
   "outputs": [
    {
     "name": "stdout",
     "output_type": "stream",
     "text": [
      "Absolutely, I can help with that. Could you please provide your order number and the reason for the refund request?\n"
     ]
    }
   ],
   "source": [
    "from agents import Agent, Runner\n",
    "\n",
    "# billing agent\n",
    "billing_agent = Agent(\n",
    "    name=\"Billing Agent\",\n",
    "    instructions=\"Handles billing and payment processing.\",\n",
    ")\n",
    "\n",
    "# refund agent\n",
    "refund_agent = Agent(\n",
    "    name=\"Refund Agent\",\n",
    "    instructions=\"Manages refund requests and processes.\",\n",
    ")\n",
    "\n",
    "triage_agent = Agent(\n",
    "    name=\"Triage Agent\",\n",
    "    instructions=\"Analyzes customer requests and routes them to the appropriate agent.\",\n",
    "    handoffs=[billing_agent, refund_agent]\n",
    ")\n",
    "\n",
    "# runner to execute the agents\n",
    "result = Runner.run_sync(triage_agent, \"I want to request a refund for my last purchase.\")\n",
    "print(result.final_output)"
   ]
  },
  {
   "cell_type": "code",
   "execution_count": 10,
   "id": "8cb43a00",
   "metadata": {},
   "outputs": [
    {
     "name": "stdout",
     "output_type": "stream",
     "text": [
      "Sure, I can assist you with that. Could you please provide me with your order number and the reason for your refund request?\n"
     ]
    }
   ],
   "source": [
    "# custom handdoff\n",
    "from agents import handoff\n",
    "refund_agent = Agent(\n",
    "    name=\"Custom Refund Agent\",\n",
    "    instructions=\"Handles all refund requests\",\n",
    ")\n",
    "\n",
    "\n",
    "custom_handoff = handoff(\n",
    "    agent = refund_agent,\n",
    "    tool_name_override=\"Custom-Refund-Handler\",\n",
    "    tool_description_override=\"Handles refund requests with custom processing.\",\n",
    ")\n",
    "\n",
    "triage_agent = Agent(\n",
    "    name = \"Triage Agent \",\n",
    "    instructions = \"Routes requests to the appropriate agent.\",\n",
    "    handoffs=[custom_handoff]\n",
    ")\n",
    "result = Runner.run_sync(triage_agent, \"I want to request a refund for my last purchase.\")\n",
    "print(result.final_output)"
   ]
  },
  {
   "cell_type": "code",
   "execution_count": 11,
   "id": "484a9ace",
   "metadata": {},
   "outputs": [
    {
     "name": "stdout",
     "output_type": "stream",
     "text": [
      "وعلیکم السلام! آپ کیسے ہیں؟\n"
     ]
    }
   ],
   "source": [
    "urdu_agent = Agent(\n",
    "    name=\"Urdu agent\",\n",
    "    instructions=\"You only speak Urdu.\"\n",
    ")\n",
    "\n",
    "english_agent = Agent(\n",
    "    name=\"English agent\",\n",
    "    instructions=\"You only speak English\"\n",
    ")\n",
    "\n",
    "triage_agent = Agent(\n",
    "    name=\"Triage agent\",\n",
    "    instructions=\"Handoff to the appropriate agent based on the language of the request.\",\n",
    "    handoffs=[urdu_agent, english_agent],\n",
    ")\n",
    "\n",
    "input = input(\"Enter your request: \")\n",
    "\n",
    "result = await Runner.run(triage_agent, input=input)\n",
    "print(result.final_output)"
   ]
  },
  {
   "cell_type": "code",
   "execution_count": 17,
   "id": "565287bd",
   "metadata": {},
   "outputs": [
    {
     "name": "stdout",
     "output_type": "stream",
     "text": [
      "------------------\n",
      "Custom handoff to Urdu agent agent\n",
      "------------------\n",
      "وعلیکم السلام! آپ کیسے ہیں؟\n"
     ]
    }
   ],
   "source": [
    "## customize handoffs with handoff function\n",
    "\n",
    "from agents import handoff, Agent, Runner, RunContextWrapper\n",
    "\n",
    "urdu_agent = Agent(\n",
    "    name=\"Urdu agent\",\n",
    "    instructions=\"You only speak Urdu.\"\n",
    ")\n",
    "\n",
    "english_agent = Agent(\n",
    "    name=\"English agent\",\n",
    "    instructions=\"You only speak English\"\n",
    ")\n",
    "\n",
    "def custom_handoff(agent: Agent, context: RunContextWrapper[None]):\n",
    "    agent_name = agent.name\n",
    "    print(\"------------------\")\n",
    "    print(f\"Custom handoff to {agent_name} agent\")\n",
    "    print(\"------------------\")\n",
    "\n",
    "triage_agent = Agent(\n",
    "    name=\"Triage agent\",\n",
    "    instructions=\"Handoff to the appropriate agent based on the language of the request.\",\n",
    "    handoffs=[\n",
    "        handoff(urdu_agent, on_handoff=  lambda context: custom_handoff(urdu_agent, context)),\n",
    "        handoff(english_agent, on_handoff=  lambda context: custom_handoff(english_agent, context))\n",
    "    ],\n",
    ")\n",
    "\n",
    "result = Runner.run_sync(triage_agent, \"السلام عليكم\")\n",
    "print(result.final_output)"
   ]
  }
 ],
 "metadata": {
  "kernelspec": {
   "display_name": "openai-agents-sdk",
   "language": "python",
   "name": "python3"
  },
  "language_info": {
   "codemirror_mode": {
    "name": "ipython",
    "version": 3
   },
   "file_extension": ".py",
   "mimetype": "text/x-python",
   "name": "python",
   "nbconvert_exporter": "python",
   "pygments_lexer": "ipython3",
   "version": "3.11.12"
  }
 },
 "nbformat": 4,
 "nbformat_minor": 5
}
