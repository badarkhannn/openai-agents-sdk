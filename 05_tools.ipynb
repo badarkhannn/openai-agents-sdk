{
 "cells": [
  {
   "cell_type": "code",
   "execution_count": 2,
   "id": "6d532ea9",
   "metadata": {},
   "outputs": [],
   "source": [
    "import nest_asyncio\n",
    "nest_asyncio.apply()"
   ]
  },
  {
   "cell_type": "code",
   "execution_count": 12,
   "id": "605d7f71",
   "metadata": {},
   "outputs": [
    {
     "name": "stdout",
     "output_type": "stream",
     "text": [
      "-------BELOW IS THE WEATHER OUTPUT-------\n",
      "The current weather in Islamabad is sunny with a temperature of 25°C.\n",
      "-------BELOW IS THE STUDENT OUTPUT-------\n",
      "I found student Alice. She is 20 years old and has received a grade of A.\n",
      "-------BELOW IS THE STUDENT OUTPUT-------\n",
      "I couldn't find any information on a student named Badar. Could you please check the name or provide more details?\n"
     ]
    }
   ],
   "source": [
    "from agents import Agent, Runner\n",
    "from agents.tool import function_tool\n",
    "from dotenv import load_dotenv\n",
    "import asyncio\n",
    "load_dotenv()\n",
    "\n",
    "@function_tool\n",
    "def weather(location: str) -> str:\n",
    "    \"\"\"\n",
    "    Get the current weather for a given location.\n",
    "    \"\"\"\n",
    "    return f\"The current weather in {location} is sunny with a temperature of 25°C.\"\n",
    "\n",
    "@function_tool\n",
    "def student_finder(name: str) -> str:\n",
    "    \"\"\"\n",
    "    Find a student by name.\n",
    "    \"\"\"\n",
    "    data = {\n",
    "        \"Alice\": {\"age\": 20, \"grade\": \"A\"},\n",
    "        \"Bob\": {\"age\": 22, \"grade\": \"B\"},\n",
    "        \"Charlie\": {\"age\": 21, \"grade\": \"C\"}\n",
    "    }\n",
    "    try:\n",
    "        if name in data:\n",
    "            student = data[name]\n",
    "            return f\"Found student {name}: Age: {student['age']}, Grade: {student['grade']}.\"\n",
    "    except Exception as e:\n",
    "        return f\"Error finding student: {str(e)}\"\n",
    "    \n",
    "\n",
    "\n",
    "# connection with the agent\n",
    "async def main():\n",
    "    agaent = Agent(\n",
    "        name=\"Assistant\",\n",
    "        instructions=\"You are a helpful assistant\",\n",
    "        tools=[weather, student_finder]\n",
    "    )\n",
    "\n",
    "    result = await Runner.run(agaent, \"What is the weather in Islamabad?\")\n",
    "    print(\"-------BELOW IS THE WEATHER OUTPUT-------\")\n",
    "    print(result.final_output)\n",
    "\n",
    "    result = await Runner.run(agaent, \"Find student Alice\")\n",
    "    print(\"-------BELOW IS THE STUDENT OUTPUT-------\")\n",
    "    print(result.final_output)\n",
    "\n",
    "    result = await Runner.run(agaent, \"Find student Badar\")\n",
    "    print(\"-------BELOW IS THE STUDENT OUTPUT-------\")\n",
    "    print(result.final_output)\n",
    "\n",
    "\n",
    "if __name__ == \"__main__\":\n",
    "    asyncio.run(main())"
   ]
  },
  {
   "cell_type": "markdown",
   "id": "27b7c456",
   "metadata": {},
   "source": [
    "## Build In tools"
   ]
  },
  {
   "cell_type": "code",
   "execution_count": 16,
   "id": "cb72f8e7",
   "metadata": {},
   "outputs": [
    {
     "name": "stdout",
     "output_type": "stream",
     "text": [
      "The document discusses a multithreaded console-based Sudoku game called \"Sudoku Grid Adventure.\" It features interactive puzzle solving with real-time validation, score tracking, pausing, and an AI-based solver.\n"
     ]
    }
   ],
   "source": [
    "from agents import agent, Runner, FileSearchTool, WebSearchTool\n",
    "\n",
    "agent = Agent(\n",
    "    name = \"Assistent\",\n",
    "    instructions = \"You are a helpful assistant\",\n",
    "    tools = [\n",
    "        WebSearchTool(),\n",
    "        FileSearchTool(\n",
    "            max_num_results= 5,\n",
    "            vector_store_ids=[\"vs_6868f42a031081919a67abc612ca000a\"]\n",
    "        ),\n",
    "    ],\n",
    ")\n",
    "\n",
    "result =  Runner.run_sync(agent, \"What game disucs in the document?\")\n",
    "print(result.final_output)"
   ]
  },
  {
   "cell_type": "code",
   "execution_count": null,
   "id": "540b3f72",
   "metadata": {},
   "outputs": [
    {
     "name": "stdout",
     "output_type": "stream",
     "text": [
      "To find high-paying clients, you can follow these strategies:\n",
      "\n",
      "1. **Identify Your Target Market**: Understand who your ideal client is and what industries generally pay higher rates for your services. Focus on niche markets where your expertise is in high demand.\n",
      "\n",
      "2. **Optimize Your Online Presence**: Make sure your LinkedIn profile, website, and portfolio highlight your skills and past successes. Showcase any work that demonstrates your ability to deliver high-value results.\n",
      "\n",
      "3. **Network Strategically**: Attend industry conferences, webinars, and networking events. Join relevant professional groups and associations where potential high-paying clients are likely to connect.\n",
      "\n",
      "4. **Leverage Referrals**: Request referrals from existing clients or colleagues who are familiar with your work. High-quality referrals can often lead to high-paying clients.\n",
      "\n",
      "5. **Offer Value-Added Services**: Differentiate your services by offering unique, high-value solutions that meet specific client needs. This can justify a higher price point.\n",
      "\n",
      "6. **Demonstrate Expertise**: Position yourself as an expert through content marketing, such as writing articles, conducting webinars, or speaking at industry events. \n",
      "\n",
      "7. **Use Advanced Platforms**: Join premium freelancing platforms that cater to high-budget projects, like Toptal or Upwork Pro, which connect freelancers with well-funded companies looking for specialized skills.\n",
      "\n",
      "These strategies can help you connect with clients who are looking for quality and are willing to pay for it.\n"
     ]
    }
   ],
   "source": [
    "# Use the Web search tool for it\n",
    "result = Runner.run_sync(agent, \"How I can find a High Paying Client?\")\n",
    "print(result.final_output)"
   ]
  }
 ],
 "metadata": {
  "kernelspec": {
   "display_name": "openai-agents-sdk",
   "language": "python",
   "name": "python3"
  },
  "language_info": {
   "codemirror_mode": {
    "name": "ipython",
    "version": 3
   },
   "file_extension": ".py",
   "mimetype": "text/x-python",
   "name": "python",
   "nbconvert_exporter": "python",
   "pygments_lexer": "ipython3",
   "version": "3.11.12"
  }
 },
 "nbformat": 4,
 "nbformat_minor": 5
}
