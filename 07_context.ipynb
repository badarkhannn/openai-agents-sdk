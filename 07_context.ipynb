{
 "cells": [
  {
   "cell_type": "code",
   "execution_count": 1,
   "id": "8882ea81",
   "metadata": {},
   "outputs": [],
   "source": [
    "import nest_asyncio\n",
    "nest_asyncio.apply()"
   ]
  },
  {
   "cell_type": "code",
   "execution_count": 3,
   "id": "0fef628c",
   "metadata": {},
   "outputs": [
    {
     "name": "stdout",
     "output_type": "stream",
     "text": [
      "The user's name is John Doe.\n"
     ]
    }
   ],
   "source": [
    "import asyncio\n",
    "from dataclasses import dataclass\n",
    "\n",
    "from agents import Agent, Runner, RunContextWrapper, function_tool\n",
    "\n",
    "@dataclass\n",
    "class Userinfo:\n",
    "    name: str\n",
    "    age: int\n",
    "    city: str\n",
    "\n",
    "@function_tool\n",
    "async def get_user_info(wrapper: RunContextWrapper[Userinfo]) -> str: \n",
    "    \"\"\"Get user information.\"\"\"\n",
    "    user_info = wrapper.context\n",
    "    return f\"User Info: Name: {user_info.name}, Age: {user_info.age}, City: {user_info.city}\"\n",
    "\n",
    "\n",
    "user_info = Userinfo(name=\"John Doe\", age=30, city=\"New York\")\n",
    "\n",
    "agent = Agent(\n",
    "    name=\"UserInfoAgent\",\n",
    "    instructions=\"You are a helpful assistant that provides user information.\",\n",
    "    tools=[get_user_info],\n",
    ")\n",
    "\n",
    "result = Runner.run_sync(agent, \"What is the name of user?\", context=user_info)\n",
    "print(result.final_output)"
   ]
  },
  {
   "cell_type": "code",
   "execution_count": 4,
   "id": "77d001d1",
   "metadata": {},
   "outputs": [
    {
     "name": "stdout",
     "output_type": "stream",
     "text": [
      "Here are the details of the user:\n",
      "\n",
      "- **Name:** John Doe\n",
      "- **Age:** 30\n",
      "- **City:** New York\n"
     ]
    }
   ],
   "source": [
    "result = Runner.run_sync(agent, \"Give me the full detail of the user\", context=user_info)\n",
    "print(result.final_output)"
   ]
  },
  {
   "cell_type": "code",
   "execution_count": null,
   "id": "f96cd039",
   "metadata": {},
   "outputs": [
    {
     "name": "stdout",
     "output_type": "stream",
     "text": [
      "Here are the details of the user:\n",
      "\n",
      "- **Name**: John Doe\n",
      "- **Age**: 30\n",
      "- **City**: New York\n"
     ]
    }
   ],
   "source": [
    "import asyncio\n",
    "from dataclasses import dataclass\n",
    "\n",
    "from agents import Agent, Runner, RunContextWrapper, function_tool\n",
    "\n",
    "# @dataclass\n",
    "class Userinfo:\n",
    "    name: str\n",
    "    age: int\n",
    "    city: str\n",
    "\n",
    "    def __init__(self, name: str, age: int, city: str):\n",
    "        self.name = name\n",
    "        self.age = age\n",
    "        self.city = city\n",
    "\n",
    "##NOTE: Normal Class can also work as a context \n",
    "\n",
    "\n",
    "@function_tool\n",
    "async def get_user_info(wrapper: RunContextWrapper[Userinfo]) -> str: \n",
    "    \"\"\"Get user information.\"\"\"\n",
    "    user_info = wrapper.context\n",
    "    return f\"User Info: Name: {user_info.name}, Age: {user_info.age}, City: {user_info.city}\"\n",
    "\n",
    "\n",
    "user_info = Userinfo(name=\"John Doe\", age=30, city=\"New York\")\n",
    "\n",
    "agent = Agent[Userinfo](\n",
    "    name=\"UserInfoAgent\",\n",
    "    instructions=\"You are a helpful assistant that provides user information.\",\n",
    "    tools=[get_user_info],\n",
    ")\n",
    "\n",
    "result = Runner.run_sync(agent, \"Give me the full detail of the user\", context=user_info)\n",
    "print(result.final_output)"
   ]
  },
  {
   "cell_type": "code",
   "execution_count": 11,
   "id": "12419da9",
   "metadata": {},
   "outputs": [
    {
     "name": "stdout",
     "output_type": "stream",
     "text": [
      "Hello Badar, welcome to our service!\n"
     ]
    }
   ],
   "source": [
    "## Agent/LLM \n",
    "\n",
    "from agents import Agent, Runner, RunContextWrapper, function_tool\n",
    "\n",
    "@dataclass\n",
    "class Userinfo:\n",
    "    name: str\n",
    "    age: int\n",
    "    city: str\n",
    "\n",
    "@function_tool\n",
    "async def greet_user(wrapper: RunContextWrapper[Userinfo]) -> str:\n",
    "    \"\"\"Greet the user.\"\"\"\n",
    "    user_info = wrapper.context\n",
    "    return f\"Hello {user_info.name}, welcome to our service!\"\n",
    "\n",
    "user_info = Userinfo(name=\"Badar\", age=21, city=\"Islamabad\")\n",
    "\n",
    "agent = Agent[Userinfo](\n",
    "    name=\"Assistant\",\n",
    "    instructions=\"You are a helpful assistant that greets the user.\",\n",
    "    tools=[greet_user]\n",
    ")\n",
    "result = Runner.run_sync(agent, \"Greet the user\", context=user_info)\n",
    "print(result.final_output)"
   ]
  }
 ],
 "metadata": {
  "kernelspec": {
   "display_name": "openai-agents-sdk",
   "language": "python",
   "name": "python3"
  },
  "language_info": {
   "codemirror_mode": {
    "name": "ipython",
    "version": 3
   },
   "file_extension": ".py",
   "mimetype": "text/x-python",
   "name": "python",
   "nbconvert_exporter": "python",
   "pygments_lexer": "ipython3",
   "version": "3.11.12"
  }
 },
 "nbformat": 4,
 "nbformat_minor": 5
}
