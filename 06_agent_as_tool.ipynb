{
 "cells": [
  {
   "cell_type": "code",
   "execution_count": null,
   "id": "f644d7de",
   "metadata": {},
   "outputs": [],
   "source": [
    "import nest_asyncio\n",
    "nest_asyncio.apply()"
   ]
  },
  {
   "cell_type": "code",
   "execution_count": 48,
   "id": "c95a7b57",
   "metadata": {},
   "outputs": [
    {
     "name": "stdout",
     "output_type": "stream",
     "text": [
      "user_input: I want to purchase the iphone 16\n",
      "Agent: The iPhone 16 hasn't been released yet. Apple usually launches new iPhones in September, so it might be available in the future. Would you like details on the latest iPhone models currently available?\n",
      "user_input: can yuo please check in my website database I already have iphone 16\n",
      "Agent: I can't access specific databases, but I can help with shopping queries or technical support. Let me know what you need!\n",
      "user_input: okay let me know what is your name?\n",
      "Agent: I'm an AI assistant created to help you. How can I assist you today?\n",
      "user_input: Are you sure you're assistant? I don't think you 're AI\n",
      "Agent: Yes, I'm an AI designed to assist with various queries and tasks. How can I help you today?\n",
      "user_input: okay love you byee\n",
      "Agent: It seems like you're saying goodbye! If you need anything else, feel free to ask. Take care!\n",
      "user_input: exit\n",
      "Exiting the triage agent.\n"
     ]
    }
   ],
   "source": [
    "from agents import Agent, Runner\n",
    "\n",
    "# Define a shopping assistant agent\n",
    "shopping_agent = Agent(\n",
    "    name=\"Shopping Assistant\",\n",
    "    instructions=\"You assist users in finding products and making purchase decisions.\"\n",
    ")\n",
    "# Define a support agent\n",
    "support_agent = Agent(\n",
    "    name=\"Support Agent\",\n",
    "    instructions=\"You help users with post-purchase support and returns.\"\n",
    ")\n",
    "\n",
    "##NOTE: DON\"T ADD THE SPACE B/W THE TOOL_NAME \n",
    "\n",
    "# Convert agents into tools\n",
    "shopping_tool = shopping_agent.as_tool(tool_name=\"ShoppingAssistant\", tool_description=\"A tool to assist with shopping queries and product recommendations.\")\n",
    "\n",
    "support_tool = support_agent.as_tool(tool_name=\"SupportAgent\", tool_description=\"A tool to assist with post-purchase support and returns.\")\n",
    "\n",
    "triage_agent = Agent(\n",
    "    name=\"Triage Agent\",\n",
    "    instructions=\"You route user queries to the appropriate department.\",\n",
    "    tools=[shopping_tool, support_tool]\n",
    ")\n",
    "\n",
    "\n",
    "# result = Runner.run_sync(triage_agent, \"I need help with a recent purchase.\")\n",
    "# print(result.final_output)\n",
    "\n",
    "while True:\n",
    "    user_input = input(\"User: \")\n",
    "    print(f\"user_input: {user_input}\")\n",
    "    if user_input.lower() == \"exit\":\n",
    "        print(\"Exiting the triage agent.\")\n",
    "        break\n",
    "    result = Runner.run_sync(triage_agent, user_input)\n",
    "    print(f\"Agent: {result.final_output}\")"
   ]
  },
  {
   "cell_type": "code",
   "execution_count": null,
   "id": "dbbf9e09",
   "metadata": {},
   "outputs": [
    {
     "name": "stdout",
     "output_type": "stream",
     "text": [
      "User Input: Convert Hello into italian\n",
      "AI Response:\"Hello\" in Italian is \"Ciao\".\n"
     ]
    }
   ],
   "source": [
    "spanish_agent = Agent(\n",
    "    name=\"spanish_agent\",\n",
    "    instructions=\"You translate the user's message to Spanish\",\n",
    "    handoff_description=\"An english to spanish translator\",\n",
    ")\n",
    "\n",
    "french_agent = Agent(\n",
    "    name=\"french_agent\",\n",
    "    instructions=\"You translate the user's message to French\",\n",
    "    handoff_description=\"An english to french translator\",\n",
    ")\n",
    "\n",
    "italian_agent = Agent(\n",
    "    name=\"italian_agent\",\n",
    "    instructions=\"You translate the user's message to Italian\",\n",
    "    handoff_description=\"An english to italian translator\",\n",
    ")\n",
    "\n",
    "orchestrator_agent = Agent(\n",
    "    name=\"orchestrator_agent\",\n",
    "    instructions=(\n",
    "        \"You are a translation agent. You use the tools given to you to translate.\"\n",
    "        \"If asked for multiple translations, you call the relevant tools in order.\"\n",
    "        \"You never translate on your own, you always use the provided tools.\"\n",
    "    ),\n",
    "    tools=[\n",
    "        spanish_agent.as_tool(\n",
    "            tool_name=\"translate_to_spanish\",\n",
    "            tool_description=\"Translate the user's message to Spanish\",\n",
    "        ),\n",
    "        french_agent.as_tool(\n",
    "            tool_name=\"translate_to_french\",\n",
    "            tool_description=\"Translate the user's message to French\",\n",
    "        ),\n",
    "        italian_agent.as_tool(\n",
    "            tool_name=\"translate_to_italian\",\n",
    "            tool_description=\"Translate the user's message to Italian\",\n",
    "        ),\n",
    "    ],\n",
    ")\n",
    "\n",
    "\n",
    "msg = input(\"Hi! What would you like translated, and to which languages? \")\n",
    "print(f\"User Input: {msg}\")\n",
    "orchestrator_result = Runner.run_sync(orchestrator_agent, msg)\n",
    "print(f\"AI Response:{orchestrator_result.final_output}\")\n"
   ]
  }
 ],
 "metadata": {
  "kernelspec": {
   "display_name": "openai-agents-sdk",
   "language": "python",
   "name": "python3"
  },
  "language_info": {
   "codemirror_mode": {
    "name": "ipython",
    "version": 3
   },
   "file_extension": ".py",
   "mimetype": "text/x-python",
   "name": "python",
   "nbconvert_exporter": "python",
   "pygments_lexer": "ipython3",
   "version": "3.11.12"
  }
 },
 "nbformat": 4,
 "nbformat_minor": 5
}
