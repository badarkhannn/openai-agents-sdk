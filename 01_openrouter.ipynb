{
 "cells": [
  {
   "cell_type": "markdown",
   "id": "89e3157a",
   "metadata": {},
   "source": [
    "## OPEN ROUTER"
   ]
  },
  {
   "cell_type": "code",
   "execution_count": 5,
   "id": "316cfd4b",
   "metadata": {},
   "outputs": [],
   "source": [
    "import nest_asyncio\n",
    "nest_asyncio.apply()\n",
    "\n",
    "from dotenv import load_dotenv\n",
    "load_dotenv()\n",
    "\n",
    "import os\n",
    "OPENROUTER_API_KEY = os.getenv(\"OPENROUTER_API_KEY\")\n",
    "\n",
    "BASE_URL = \"https://openrouter.ai/api/v1\"\n",
    "model = \"deepseek/deepseek-r1-0528:free\""
   ]
  },
  {
   "cell_type": "markdown",
   "id": "8d1b84b5",
   "metadata": {},
   "source": [
    "### OpnRouter API Directly without any SDK"
   ]
  },
  {
   "cell_type": "code",
   "execution_count": 7,
   "id": "5254b4f9",
   "metadata": {},
   "outputs": [
    {
     "name": "stdout",
     "output_type": "stream",
     "text": [
      "{'id': 'gen-1749310830-3M9Yen0gqxo1rGglfWJP', 'provider': 'Chutes', 'model': 'deepseek/deepseek-r1-0528:free', 'object': 'chat.completion', 'created': 1749310832, 'choices': [{'logprobs': None, 'finish_reason': 'stop', 'native_finish_reason': 'stop', 'index': 0, 'message': {'role': 'assistant', 'content': 'The question \"What is the meaning of life?\" is one of the oldest and most profound inquiries in human history. There is no single, universally agreed-upon answer, as **the search for meaning is deeply personal and subjective**. Here are the main perspectives that shape this quest:\\n\\n### 1. **Philosophical Perspectives**\\n   - **Aristotle:** Proposed \"eudaimonia\" (flourishing/fulfillment) through virtue, reason, and actualizing one\\'s potential.\\n   - **Existentialism (Sartre, Camus):** Meaning isn\\'t preordained; humans *create* it through choices, actions, and authenticity in an indifferent universe.\\n   - **Absurdism (Camus):** Life lacks inherent meaning, but we can rebel against absurdity by embracing passion and lived experience.\\n   - **Utilitarianism:** Meaning arises from maximizing happiness and reducing suffering for the greatest number.\\n\\n### 2. **Religious/Spiritual Views**\\n   - **Theistic Faiths (Christianity, Islam, Judaism, etc.):** Purpose is found in serving God/divine will, seeking salvation/enlightenment, and living ethically.\\n   - **Eastern Traditions (Buddhism, Hinduism):** Meaning comes from ending suffering (Buddhism), enlightenment (moksha/nirvana), or fulfilling one\\'s duty (dharma).\\n\\n### 3. **Scientific Lens**\\n   - **Biology/Evolution:** Meaning may derive from survival, reproduction, and ensuring the continuity of life.\\n   - **Cosmic Scale:** In an uncaring, vast universe, meaning is entirely human-made—arising from our consciousness and relationships.\\n\\n### 4. **Personal/Modern Approaches**\\n   - **Purpose through Connection:** Meaning emerges in relationships, love, community, and contributing to others.\\n   - **Creativity/Work:** Pursuits like art, innovation, or meaningful labor.\\n   - **Growth:** Continual learning and self-improvement.\\n   - **Experience:** Finding wonder in existence itself—beauty, joy, curiosity.\\n\\n### Key Insights:\\n- **Subjectivity:** Your meaning might stem from raising a child, advancing knowledge, creating art, fighting injustice, spiritual devotion, or simply savoring life’s moments.\\n- **Dynamic Purpose:** Meaning evolves with life stages and experiences.\\n- **Viktor Frankl\\'s Wisdom:** In suffering or uncertainty, meaning can be found through our *attitude* and response.\\n\\n### In Short:\\n**Life’s \"meaning\" isn’t a hidden secret to uncover—it’s a canvas for *you* to create purpose through connection, growth, contribution, and living authentically.** For many, asking the question itself marks the beginning of a meaningful journey.\\n\\nWhat meaning resonates with *you*? The pursuit often holds as much significance as the answer. 🌱', 'refusal': None, 'reasoning': 'Okay, the user asked, \"What is the meaning of life?\" That\\'s a big one. Let me start by considering why they\\'re asking this. People usually bring this up when they\\'re searching for purpose or facing existential questions. Maybe they\\'re feeling lost or looking for direction. I should acknowledge the depth of the question first.  \\n\\nHmm, this isn\\'t a query with a straightforward answer. The user might not want a definition but a discussion on perspectives. They could be exploring philosophy, dealing with personal issues, or just curious. It\\'s important to cover different angles without pushing one view.  \\n\\nBreaking down the approaches: philosophical, religious, scientific, and personal. Philosophical gives historical context—Aristotle\\'s happiness, existentialism\\'s personal creation. Religious meanings depend on their beliefs, but I shouldn\\'t assume any. Science focuses on biology and evolution, which might feel impersonal but adds another layer. Personal meaning is actionable; maybe that\\'s where they need practical advice.  \\n\\nWait, should I address potential emotions? If someone\\'s asking this, they might feel overwhelmed. Reassuring them that it\\'s normal to seek meaning is crucial. Encouraging exploration and self-reflection could help. Let me mention finding purpose in relationships, creativity, and growth.  \\n\\nAlso, avoid claiming a single answer. Emphasize that it\\'s subjective and iterative. Maybe they need validation that their search is part of the process. Highlighting small meaningful actions might resonate if they\\'re feeling stuck.  \\n\\nCheck if the response balances depth with accessibility. Don\\'t get too academic; use examples like gardening or helping others. End on a hopeful note—curiosity and connection matter. Align the closing with their possible need for encouragement. Got it.\\n'}}], 'usage': {'prompt_tokens': 13, 'completion_tokens': 931, 'total_tokens': 944}}\n"
     ]
    }
   ],
   "source": [
    "import requests\n",
    "import json\n",
    "\n",
    "response = requests.post(\n",
    "  url=f\"{BASE_URL}/chat/completions\",\n",
    "  headers={\n",
    "    \"Authorization\": f\"Bearer {OPENROUTER_API_KEY}\",\n",
    "  },\n",
    "  data=json.dumps({\n",
    "    \"model\": model,\n",
    "    \"messages\": [\n",
    "      {\n",
    "        \"role\": \"user\",\n",
    "        \"content\": \"What is the meaning of life?\"\n",
    "      }\n",
    "    ]\n",
    "  })\n",
    ")\n",
    "\n",
    "print(response.json())"
   ]
  },
  {
   "cell_type": "code",
   "execution_count": 8,
   "id": "956a7d15",
   "metadata": {},
   "outputs": [
    {
     "data": {
      "text/plain": [
       "'The question \"What is the meaning of life?\" is one of the oldest and most profound inquiries in human history. There is no single, universally agreed-upon answer, as **the search for meaning is deeply personal and subjective**. Here are the main perspectives that shape this quest:\\n\\n### 1. **Philosophical Perspectives**\\n   - **Aristotle:** Proposed \"eudaimonia\" (flourishing/fulfillment) through virtue, reason, and actualizing one\\'s potential.\\n   - **Existentialism (Sartre, Camus):** Meaning isn\\'t preordained; humans *create* it through choices, actions, and authenticity in an indifferent universe.\\n   - **Absurdism (Camus):** Life lacks inherent meaning, but we can rebel against absurdity by embracing passion and lived experience.\\n   - **Utilitarianism:** Meaning arises from maximizing happiness and reducing suffering for the greatest number.\\n\\n### 2. **Religious/Spiritual Views**\\n   - **Theistic Faiths (Christianity, Islam, Judaism, etc.):** Purpose is found in serving God/divine will, seeking salvation/enlightenment, and living ethically.\\n   - **Eastern Traditions (Buddhism, Hinduism):** Meaning comes from ending suffering (Buddhism), enlightenment (moksha/nirvana), or fulfilling one\\'s duty (dharma).\\n\\n### 3. **Scientific Lens**\\n   - **Biology/Evolution:** Meaning may derive from survival, reproduction, and ensuring the continuity of life.\\n   - **Cosmic Scale:** In an uncaring, vast universe, meaning is entirely human-made—arising from our consciousness and relationships.\\n\\n### 4. **Personal/Modern Approaches**\\n   - **Purpose through Connection:** Meaning emerges in relationships, love, community, and contributing to others.\\n   - **Creativity/Work:** Pursuits like art, innovation, or meaningful labor.\\n   - **Growth:** Continual learning and self-improvement.\\n   - **Experience:** Finding wonder in existence itself—beauty, joy, curiosity.\\n\\n### Key Insights:\\n- **Subjectivity:** Your meaning might stem from raising a child, advancing knowledge, creating art, fighting injustice, spiritual devotion, or simply savoring life’s moments.\\n- **Dynamic Purpose:** Meaning evolves with life stages and experiences.\\n- **Viktor Frankl\\'s Wisdom:** In suffering or uncertainty, meaning can be found through our *attitude* and response.\\n\\n### In Short:\\n**Life’s \"meaning\" isn’t a hidden secret to uncover—it’s a canvas for *you* to create purpose through connection, growth, contribution, and living authentically.** For many, asking the question itself marks the beginning of a meaningful journey.\\n\\nWhat meaning resonates with *you*? The pursuit often holds as much significance as the answer. 🌱'"
      ]
     },
     "execution_count": 8,
     "metadata": {},
     "output_type": "execute_result"
    }
   ],
   "source": [
    "data = response.json()\n",
    "data['choices'][0]['message']['content']"
   ]
  },
  {
   "cell_type": "markdown",
   "id": "1ecdaa2f",
   "metadata": {},
   "source": [
    "### Using OpenAI Agents SDK"
   ]
  },
  {
   "cell_type": "code",
   "execution_count": 14,
   "id": "f811dbc0",
   "metadata": {},
   "outputs": [
    {
     "name": "stdout",
     "output_type": "stream",
     "text": [
      "RunResult:\n",
      "- Last agent: Agent(name=\"DeepSeek Agent\", ...)\n",
      "- Final output (str):\n",
      "    Here’s a purr-fect one for you:  \n",
      "    \n",
      "    **Why was the cat sitting on the computer keyboard?**  \n",
      "    *Because it wanted to make sure its Java-script was up to date—and also to demand snacks!*  \n",
      "    \n",
      "    (Alternatively: *To keep an eye on the mouse!*) 😸\n",
      "- 1 new item(s)\n",
      "- 1 raw response(s)\n",
      "- 0 input guardrail result(s)\n",
      "- 0 output guardrail result(s)\n",
      "(See `RunResult` for more details)\n"
     ]
    }
   ],
   "source": [
    "import asyncio\n",
    "from openai import AsyncOpenAI\n",
    "from agents import Agent, OpenAIChatCompletionsModel, Runner, set_tracing_disabled\n",
    "\n",
    "client = AsyncOpenAI(\n",
    "    api_key=OPENROUTER_API_KEY,\n",
    "    base_url=BASE_URL\n",
    ")\n",
    "\n",
    "set_tracing_disabled(disabled=True)\n",
    "\n",
    "async def main():\n",
    "    agents = Agent(\n",
    "        name=\"DeepSeek Agent\",\n",
    "        model=OpenAIChatCompletionsModel(\n",
    "            openai_client=client,\n",
    "            model=model,\n",
    "        ),\n",
    "        instructions=\"You are a helpful assistant.\",\n",
    "    )\n",
    "\n",
    "    result = await Runner.run(\n",
    "        agents,\n",
    "        \"Tell me a joke about cats.\",\n",
    "    )\n",
    "    print(result)\n",
    "\n",
    "\n",
    "if __name__ == \"__main__\":\n",
    "    asyncio.run(main())"
   ]
  }
 ],
 "metadata": {
  "kernelspec": {
   "display_name": ".venv",
   "language": "python",
   "name": "python3"
  },
  "language_info": {
   "codemirror_mode": {
    "name": "ipython",
    "version": 3
   },
   "file_extension": ".py",
   "mimetype": "text/x-python",
   "name": "python",
   "nbconvert_exporter": "python",
   "pygments_lexer": "ipython3",
   "version": "3.11.12"
  }
 },
 "nbformat": 4,
 "nbformat_minor": 5
}
