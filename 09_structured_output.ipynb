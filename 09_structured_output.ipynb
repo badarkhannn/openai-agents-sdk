{
 "cells": [
  {
   "cell_type": "code",
   "execution_count": 2,
   "id": "c3003725",
   "metadata": {},
   "outputs": [],
   "source": [
    "import nest_asyncio\n",
    "nest_asyncio.apply()"
   ]
  },
  {
   "cell_type": "code",
   "execution_count": 5,
   "id": "ec9a9c89",
   "metadata": {},
   "outputs": [
    {
     "name": "stdout",
     "output_type": "stream",
     "text": [
      "----\n",
      "Structured Output----\n",
      "name='Write Report' description='Complete the financial report for Q3 with all necessary data and analysis. Ensure it is ready for submission by the end of the week.' priority=1\n"
     ]
    }
   ],
   "source": [
    "from pydantic import BaseModel\n",
    "from agents import Agent, Runner\n",
    "\n",
    "class Task(BaseModel):\n",
    "    name: str\n",
    "    description: str\n",
    "    priority: int\n",
    "\n",
    "agent = Agent(\n",
    "    name = \"Task Manager\",\n",
    "    instructions= \"Manages tasks with structured output\",\n",
    "    output_type=Task,\n",
    ")\n",
    "\n",
    "result = Runner.run_sync(agent, input=\"Create a task named 'Write Report'and add description along with high priority\")\n",
    "print(\"----\\nStructured Output----\")\n",
    "print(result.final_output)"
   ]
  }
 ],
 "metadata": {
  "kernelspec": {
   "display_name": "openai-agents-sdk",
   "language": "python",
   "name": "python3"
  },
  "language_info": {
   "codemirror_mode": {
    "name": "ipython",
    "version": 3
   },
   "file_extension": ".py",
   "mimetype": "text/x-python",
   "name": "python",
   "nbconvert_exporter": "python",
   "pygments_lexer": "ipython3",
   "version": "3.11.12"
  }
 },
 "nbformat": 4,
 "nbformat_minor": 5
}
