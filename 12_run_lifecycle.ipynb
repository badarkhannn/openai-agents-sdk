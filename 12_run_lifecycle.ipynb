{
 "cells": [
  {
   "cell_type": "code",
   "execution_count": 1,
   "id": "b8d5a5c9",
   "metadata": {},
   "outputs": [],
   "source": [
    "import nest_asyncio\n",
    "nest_asyncio.apply()"
   ]
  },
  {
   "cell_type": "code",
   "execution_count": 29,
   "id": "b10326f0",
   "metadata": {},
   "outputs": [
    {
     "name": "stdout",
     "output_type": "stream",
     "text": [
      "Agent is starting...\n",
      "Agent has finished running.\n",
      "There isn't any specific evidence or prediction indicating that agentic AI will \"die\" by the end of 2025. The development and use of AI technology is a complex and evolving field. The future of AI depends on numerous factors including technological advancements, regulatory changes, and ethical considerations.\n"
     ]
    }
   ],
   "source": [
    "#Basic example\n",
    "\n",
    "import asyncio\n",
    "from dataclasses import dataclass \n",
    "import random\n",
    "from typing import Any, Dict, List\n",
    "from agents import Agent, RunHooks, Runner\n",
    "\n",
    "class CustomRunHooks(RunHooks):\n",
    "    async def on_agent_start(self, context, agent):\n",
    "        # print(f\"Agent {agent.name} started with context: {context}\")\n",
    "        print(\"Agent is starting...\")\n",
    "    async def on_agent_end(self, context, agent, result):\n",
    "        # print(f\"Agent {agent.name} ended with context: {context}\")\n",
    "        print(\"Agent has finished running.\")\n",
    "\n",
    "\n",
    "\n",
    "agent = Agent(\n",
    "    name = \"Content Generator\",\n",
    "    instructions= \"Generate a random number and return it.\",\n",
    ")\n",
    "\n",
    "result = await Runner.run(agent, hooks=CustomRunHooks(), input=\"Will Agentic AI Die at end of 2025?\")\n",
    "print(result.final_output)\n"
   ]
  },
  {
   "cell_type": "code",
   "execution_count": null,
   "id": "776d75de",
   "metadata": {},
   "outputs": [
    {
     "name": "stdout",
     "output_type": "stream",
     "text": [
      "Agent Content Generator started with context: RunContextWrapper(context=None, usage=Usage(requests=0, input_tokens=0, input_tokens_details=InputTokensDetails(cached_tokens=0), output_tokens=0, output_tokens_details=OutputTokensDetails(reasoning_tokens=0), total_tokens=0))\n",
      "Tool random_number_generator ended with context: RunContextWrapper(context=None, usage=Usage(requests=1, input_tokens=58, input_tokens_details=InputTokensDetails(cached_tokens=0), output_tokens=42, output_tokens_details=OutputTokensDetails(reasoning_tokens=0), total_tokens=100))\n",
      "Result: 25\n",
      "Tool random_number_generator ended with context: RunContextWrapper(context=None, usage=Usage(requests=1, input_tokens=58, input_tokens_details=InputTokensDetails(cached_tokens=0), output_tokens=42, output_tokens_details=OutputTokensDetails(reasoning_tokens=0), total_tokens=100))\n",
      "Result: 61\n",
      "Agent Content Generator ended with context: RunContextWrapper(context=None, usage=Usage(requests=2, input_tokens=155, input_tokens_details=InputTokensDetails(cached_tokens=0), output_tokens=56, output_tokens_details=OutputTokensDetails(reasoning_tokens=0), total_tokens=211))\n",
      "Result: Here are two random numbers: 25 and 61.\n",
      "Here are two random numbers: 25 and 61.\n"
     ]
    }
   ],
   "source": [
    "## Advance with the Hand off\n",
    "from agents import Agent, RunHooks, Runner, function_tool\n",
    "\n",
    "class ExampleHook(RunHooks):\n",
    "    async def on_agent_start(self, context, agent):\n",
    "        print(f\"Agent {agent.name} started with context: {context}\")\n",
    "    \n",
    "    async def on_agent_end(self, context, agent, result):\n",
    "        print(f\"Agent {agent.name} ended with context: {context}\")\n",
    "        print(f\"Result: {result}\")\n",
    "\n",
    "    async def on_tool_start(self, context, agent, tool):\n",
    "        return await super().on_tool_start(context, agent, tool)\n",
    "    async def on_tool_end(self, context, agent, tool, result):\n",
    "        print(f\"Tool {tool.name} ended with context: {context}\")\n",
    "        print(f\"Result: {result}\")\n",
    "        return await super().on_tool_end(context, agent, tool, result)\n",
    "    \n",
    "    async def on_handoff(self, context, from_agent, to_agent):\n",
    "        return await super().on_handoff(context, from_agent, to_agent)\n",
    "    \n",
    "@function_tool\n",
    "def random_number_generator() -> int:\n",
    "    \"\"\"Generate a random number between 1 and 100.\"\"\"\n",
    "    return random.randint(1, 100)\n",
    "\n",
    "agent = Agent(\n",
    "    name = \"Content Generator\",\n",
    "    instructions= \"Generate a random number and return it.\",\n",
    "    tools=[random_number_generator]\n",
    "    )\n",
    "\n",
    "result = await Runner.run(agent, hooks=ExampleHook(), input=\"Give me any random Agenti ai rise year\")\n",
    "print(result.final_output)"
   ]
  }
 ],
 "metadata": {
  "kernelspec": {
   "display_name": "openai-agents-sdk",
   "language": "python",
   "name": "python3"
  },
  "language_info": {
   "codemirror_mode": {
    "name": "ipython",
    "version": 3
   },
   "file_extension": ".py",
   "mimetype": "text/x-python",
   "name": "python",
   "nbconvert_exporter": "python",
   "pygments_lexer": "ipython3",
   "version": "3.11.12"
  }
 },
 "nbformat": 4,
 "nbformat_minor": 5
}
