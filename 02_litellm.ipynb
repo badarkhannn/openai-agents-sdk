{
 "cells": [
  {
   "cell_type": "markdown",
   "id": "3aeba4ed",
   "metadata": {},
   "source": [
    "## litellm"
   ]
  },
  {
   "cell_type": "code",
   "execution_count": 1,
   "id": "316255db",
   "metadata": {},
   "outputs": [],
   "source": [
    "import nest_asyncio\n",
    "nest_asyncio.apply()"
   ]
  },
  {
   "cell_type": "markdown",
   "id": "037635b3",
   "metadata": {},
   "source": [
    "#### Run googl gemini litellm"
   ]
  },
  {
   "cell_type": "markdown",
   "id": "8db000e8",
   "metadata": {},
   "source": [
    "###### RUN SYNC"
   ]
  },
  {
   "cell_type": "code",
   "execution_count": 13,
   "id": "74ec5e2e",
   "metadata": {},
   "outputs": [
    {
     "name": "stdout",
     "output_type": "stream",
     "text": [
      "Muhammad Ali Jinnah is considered the founder of Pakistan.\n",
      "\n"
     ]
    }
   ],
   "source": [
    "import asyncio\n",
    "\n",
    "from agents import Agent, Runner, function_tool, set_tracing_disabled\n",
    "from agents.extensions.models.litellm_model import LitellmModel\n",
    "from dotenv import load_dotenv\n",
    "import os \n",
    "load_dotenv()\n",
    "\n",
    "set_tracing_disabled(disabled=True)\n",
    "\n",
    "model = \"gemini/gemini-2.0-flash\"\n",
    "\n",
    "agent = Agent(\n",
    "    name = \"gemini\",\n",
    "    instructions=\"You are helpfull assistant\",\n",
    "    model = LitellmModel(model=model)\n",
    ")\n",
    "\n",
    "result = Runner.run_sync(agent, \"who is the founder of pakistan\")\n",
    "print(result.final_output)"
   ]
  },
  {
   "cell_type": "code",
   "execution_count": null,
   "id": "9caebc0d",
   "metadata": {},
   "outputs": [],
   "source": [
    "# def get_weather_data(city: str) -> str:\n",
    "#   \"\"\"\n",
    "#   This function fetches the current weather data for a given city\n",
    "#   \"\"\"\n",
    "#   url = f'https://api.weatherstack.com/current?access_key={os.environ['WEATHER_API_KEY']}&query={city}'\n",
    "\n",
    "#   response = requests.get(url)\n",
    "\n",
    "#   return response.json()"
   ]
  },
  {
   "cell_type": "code",
   "execution_count": 23,
   "id": "8d3b57df",
   "metadata": {},
   "outputs": [
    {
     "name": "stdout",
     "output_type": "stream",
     "text": [
      "Here is the weather information for Islamabad:\n",
      "\n",
      "*   **Location:**\n",
      "    *   City: Islamabad\n",
      "    *   Region: Islamabad\n",
      "    *   Country: Pakistan\n",
      "*   **Current Conditions:**\n",
      "    *   Temperature: 34.1°C (93.4°F)\n",
      "    *   Condition: Clear\n",
      "    *   Wind: 11.2 kph\n",
      "    *   Humidity: 16%\n"
     ]
    }
   ],
   "source": [
    "import asyncio\n",
    "from agents import Agent, Runner, function_tool, set_tracing_disabled\n",
    "from agents.extensions.models.litellm_model import LitellmModel\n",
    "import requests\n",
    "from dotenv import load_dotenv\n",
    "import os\n",
    "load_dotenv()\n",
    "\n",
    "set_tracing_disabled(disabled=True)\n",
    "\n",
    "model = 'gemini/gemini-2.0-flash'\n",
    "\n",
    "\n",
    "@function_tool\n",
    "def get_weather(city: str)->str:\n",
    "\n",
    "    \"\"\" \n",
    "    This function get the weather information by the city name.\n",
    "    \"\"\"\n",
    "\n",
    "    url = f\"http://api.weatherapi.com/v1/current.json?key={os.environ['WEATHER_API_KEY']}&q={city}\"\n",
    "\n",
    "    response = requests.get(url)\n",
    "\n",
    "    return response.json()\n",
    "\n",
    "\n",
    "agent = Agent(\n",
    "    name=\"Assistant\",\n",
    "    instructions=\"Process the json output from the weather data and give the instruction in the proper structured format\",\n",
    "    model=LitellmModel(model=model),\n",
    "    tools=[get_weather]\n",
    "\n",
    ")\n",
    "\n",
    "result = await Runner.run(agent, \"what is the weather in Islamabad?\")\n",
    "print(result.final_output)"
   ]
  },
  {
   "cell_type": "markdown",
   "id": "90e29bbd",
   "metadata": {},
   "source": [
    "### Handsoff"
   ]
  },
  {
   "cell_type": "code",
   "execution_count": 48,
   "id": "942df060",
   "metadata": {},
   "outputs": [
    {
     "name": "stdout",
     "output_type": "stream",
     "text": [
      "I'm sorry, I'm unable to call the `transfer_to_validator_information` function as it is not available in the current tool list. However, I can still provide the country information for the phone number 14158586273 using the `number_detail` function. Would you like me to do that?\n",
      "\n",
      "Agent(name='Validator information', instructions='Process the json output from the data and give the instruction in the proper structured format', handoff_description='Extract the meaning full detail', handoffs=[], model=<agents.extensions.models.litellm_model.LitellmModel object at 0x000001BBB84DAFD0>, model_settings=ModelSettings(temperature=None, top_p=None, frequency_penalty=None, presence_penalty=None, tool_choice=None, parallel_tool_calls=None, truncation=None, max_tokens=None, reasoning=None, metadata=None, store=None, include_usage=None, extra_query=None, extra_body=None, extra_headers=None), tools=[FunctionTool(name='number_detail', description='this is the output format of this function \\n    {\\n\"valid\":true,\\n\"number\":\"14158586273\",\\n\"local_format\":\"4158586273\",\\n\"international_format\":\"+14158586273\",\\n\"country_prefix\":\"+1\",\\n\"country_code\":\"US\",\\n\"country_name\":\"United States of America\",\\n\"location\":\"Novato\",\\n\"carrier\":\"AT&T Mobility LLC\",\\n\"line_type\":\"mobile\"\\n}\\nso when you call this function process account to this.', params_json_schema={'properties': {'number': {'title': 'Number', 'type': 'string'}}, 'required': ['number'], 'title': 'number_detail_args', 'type': 'object'}, on_invoke_tool=<function function_tool.<locals>._create_function_tool.<locals>._on_invoke_tool at 0x000001BBB84C85E0>, strict_json_schema=True, is_enabled=True)], mcp_servers=[], mcp_config={}, input_guardrails=[], output_guardrails=[], output_type=None, hooks=None, tool_use_behavior='run_llm_again', reset_tool_choice=True)\n"
     ]
    }
   ],
   "source": [
    "import asyncio\n",
    "from agents import Agent, Runner, function_tool, set_tracing_disabled\n",
    "from agents.extensions.models.litellm_model import LitellmModel\n",
    "import requests\n",
    "from dotenv import load_dotenv\n",
    "import os\n",
    "load_dotenv()\n",
    "set_tracing_disabled(disabled=True)\n",
    "\n",
    "model = 'gemini/gemini-2.0-flash'\n",
    "\n",
    "\n",
    "@function_tool\n",
    "def number_detail(number: str) -> str:\n",
    "    \"\"\"\n",
    "    this is the output format of this function \n",
    "            {\n",
    "        \"valid\":true,\n",
    "        \"number\":\"14158586273\",\n",
    "        \"local_format\":\"4158586273\",\n",
    "        \"international_format\":\"+14158586273\",\n",
    "        \"country_prefix\":\"+1\",\n",
    "        \"country_code\":\"US\",\n",
    "        \"country_name\":\"United States of America\",\n",
    "        \"location\":\"Novato\",\n",
    "        \"carrier\":\"AT&T Mobility LLC\",\n",
    "        \"line_type\":\"mobile\"\n",
    "        }\n",
    "        so when you call this function process account to this.\n",
    "    \"\"\"\n",
    "    url = f\"http://apilayer.net/api/validate?access_key={os.environ['NUMVERIFY_API_KEY']}&number={number}\"\n",
    "    response = requests.get(url)\n",
    "    return response.json()\n",
    "\n",
    "\n",
    "\n",
    "agent2 = Agent(\n",
    "    name=\"Validator information\",\n",
    "    instructions=\"Process the json output from the data and give the instruction in the proper structured format\",\n",
    "    handoff_description=\"Extract the meaning full detail\",\n",
    "    model=LitellmModel(model=model),\n",
    "    tools=[number_detail]\n",
    "\n",
    ")\n",
    "\n",
    "agent1 = Agent(\n",
    "    name=\"Assistant\",\n",
    "    instructions=(\n",
    "        \"You only respond as Assistant. \"\n",
    "        \"If the user asks about phone number details, \"\n",
    "        \"use `number_detail()` to hand off the task to the appropriate agent.\"\n",
    "    ),\n",
    "    model=LitellmModel(model=model),\n",
    "    handoffs=[agent2]\n",
    ")\n",
    "\n",
    "result = await Runner.run(agent1, \"which country this number 14158586273 belong to?\")\n",
    "print(result.final_output)\n",
    "print(result.last_agent)\n"
   ]
  },
  {
   "cell_type": "code",
   "execution_count": null,
   "id": "67f32ead",
   "metadata": {},
   "outputs": [
    {
     "name": "stdout",
     "output_type": "stream",
     "text": [
      "=== Single Agent Approach ===\n",
      "Final Output: The phone number +14158586273 belongs to the United States of America. Here are some more details:\n",
      "- Country: United States of America\n",
      "- Country Code: US\n",
      "- Location: Novato\n",
      "- Carrier: AT&T Mobility LLC\n",
      "- Line Type: mobile\n",
      "\n",
      "Agent Used: Phone Number Assistant\n",
      "\n",
      "=== Two Agent Handoff Approach ===\n",
      "Final Output: The number +14158586273 belongs to the United States of America.\n",
      "\n",
      "Last Agent: Phone Validator\n"
     ]
    }
   ],
   "source": [
    "import asyncio\n",
    "from agents import Agent, Runner, function_tool, set_tracing_disabled\n",
    "from agents.extensions.models.litellm_model import LitellmModel\n",
    "import requests\n",
    "from dotenv import load_dotenv\n",
    "import os\n",
    "\n",
    "load_dotenv()\n",
    "set_tracing_disabled(disabled=True)\n",
    "\n",
    "model = 'gemini/gemini-2.0-flash'\n",
    "\n",
    "@function_tool\n",
    "def number_detail(number: str) -> str:\n",
    "    \"\"\"\n",
    "    Get phone number validation details including country, carrier, and format information.\n",
    "    Returns JSON with fields: valid, number, local_format, international_format, \n",
    "    country_prefix, country_code, country_name, location, carrier, line_type\n",
    "    \"\"\"\n",
    "    url = f\"http://apilayer.net/api/validate?access_key={os.environ['NUMVERIFY_API_KEY']}&number={number}\"\n",
    "    response = requests.get(url)\n",
    "    return response.json()\n",
    "\n",
    "agent1 = Agent(\n",
    "    name=\"Phone Number Assistant\",\n",
    "    instructions=(\n",
    "        \"You are a phone number validation assistant. \"\n",
    "        \"When asked about phone number details, use the number_detail function to get information \"\n",
    "        \"and then provide a clear, formatted response about the phone number's country, carrier, \"\n",
    "        \"format, and other relevant details.\"\n",
    "    ),\n",
    "    model=LitellmModel(model=model),\n",
    "    tools=[number_detail]\n",
    ")\n",
    "\n",
    "agent2_validator = Agent(\n",
    "    name=\"Phone Validator\",\n",
    "    instructions=(\n",
    "        \"You validate phone numbers and extract meaningful details. \"\n",
    "        \"Use the number_detail function to get phone number information, \"\n",
    "        \"then format the response in a clear, user-friendly way. \"\n",
    "        \"Focus on answering the specific question asked about the phone number.\"\n",
    "    ),\n",
    "    handoff_description=\"Validates phone numbers and provides detailed information\",\n",
    "    model=LitellmModel(model=model),\n",
    "    tools=[number_detail]\n",
    ")\n",
    "\n",
    "agent1_coordinator = Agent(\n",
    "    name=\"Assistant Coordinator\",\n",
    "    instructions=(\n",
    "        \"You coordinate phone number validation requests. \"\n",
    "        \"When users ask about phone number details, transfer to the Phone Validator agent. \"\n",
    "        \"Be clear and helpful in your responses.\"\n",
    "    ),\n",
    "    model=LitellmModel(model=model),\n",
    "    handoffs=[agent2_validator]\n",
    ")\n",
    "\n",
    "async def main():\n",
    "    # Using single agent approach (simpler and more direct)\n",
    "    print(\"=== Single Agent Approach ===\")\n",
    "    result1 = await Runner.run(agent1, \"which country does this number 14158586273 belong to?\")\n",
    "    print(\"Final Output:\", result1.final_output)\n",
    "    print(\"Agent Used:\", result1.last_agent.name)\n",
    "    print()\n",
    "    \n",
    "    # Using two-agent handoff approach\n",
    "    print(\"=== Two Agent Handoff Approach ===\")\n",
    "    result2 = await Runner.run(agent1_coordinator, \"which country does this number 14158586273 belong to?\")\n",
    "    print(\"Final Output:\", result2.final_output)\n",
    "    print(\"Last Agent:\", result2.last_agent.name)\n",
    "\n",
    "# Run the async function\n",
    "if __name__ == \"__main__\":\n",
    "    asyncio.run(main())"
   ]
  }
 ],
 "metadata": {
  "kernelspec": {
   "display_name": ".venv",
   "language": "python",
   "name": "python3"
  },
  "language_info": {
   "codemirror_mode": {
    "name": "ipython",
    "version": 3
   },
   "file_extension": ".py",
   "mimetype": "text/x-python",
   "name": "python",
   "nbconvert_exporter": "python",
   "pygments_lexer": "ipython3",
   "version": "3.11.12"
  }
 },
 "nbformat": 4,
 "nbformat_minor": 5
}
