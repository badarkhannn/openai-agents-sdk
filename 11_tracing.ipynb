{
 "cells": [
  {
   "cell_type": "code",
   "execution_count": 1,
   "id": "36704e36",
   "metadata": {},
   "outputs": [],
   "source": [
    "import nest_asyncio\n",
    "nest_asyncio.apply()"
   ]
  },
  {
   "cell_type": "code",
   "execution_count": 18,
   "id": "7537bd17",
   "metadata": {},
   "outputs": [
    {
     "name": "stdout",
     "output_type": "stream",
     "text": [
      "Trace started: <agents.tracing.traces.TraceImpl object at 0x000001F9EED98590>\n",
      "Span started: <agents.tracing.spans.SpanImpl object at 0x000001F9EEC119D0>\n",
      "{'object': 'trace.span', 'id': 'span_a57e572bf10145f28a03004a', 'trace_id': 'trace_02709a2bdaa547218b32be3bf73c7dc8', 'parent_id': None, 'started_at': '2025-07-07T07:26:37.931528+00:00', 'ended_at': None, 'span_data': {'type': 'agent', 'name': 'Tracing Agent', 'handoffs': [], 'tools': None, 'output_type': 'str'}, 'error': None}\n",
      "Span started: <agents.tracing.spans.SpanImpl object at 0x000001F9EEC11FD0>\n",
      "{'object': 'trace.span', 'id': 'span_d4bc268848874d43842d3ce2', 'trace_id': 'trace_02709a2bdaa547218b32be3bf73c7dc8', 'parent_id': 'span_a57e572bf10145f28a03004a', 'started_at': '2025-07-07T07:26:38.548372+00:00', 'ended_at': None, 'span_data': {'type': 'response', 'response_id': None}, 'error': None}\n",
      "Span ended: <agents.tracing.spans.SpanImpl object at 0x000001F9EEC11FD0>\n",
      "{'object': 'trace.span', 'id': 'span_d4bc268848874d43842d3ce2', 'trace_id': 'trace_02709a2bdaa547218b32be3bf73c7dc8', 'parent_id': 'span_a57e572bf10145f28a03004a', 'started_at': '2025-07-07T07:26:38.548372+00:00', 'ended_at': '2025-07-07T07:26:41.521014+00:00', 'span_data': {'type': 'response', 'response_id': 'resp_686b76b13384819a9b3277b784d5e1340d2e1412dc7fedab'}, 'error': None}\n",
      "Span ended: <agents.tracing.spans.SpanImpl object at 0x000001F9EEC119D0>\n",
      "{'object': 'trace.span', 'id': 'span_a57e572bf10145f28a03004a', 'trace_id': 'trace_02709a2bdaa547218b32be3bf73c7dc8', 'parent_id': None, 'started_at': '2025-07-07T07:26:37.931528+00:00', 'ended_at': '2025-07-07T07:26:41.524770+00:00', 'span_data': {'type': 'agent', 'name': 'Tracing Agent', 'handoffs': [], 'tools': [], 'output_type': 'str'}, 'error': None}\n",
      "Span started: <agents.tracing.spans.SpanImpl object at 0x000001F9EF08B7D0>\n",
      "{'object': 'trace.span', 'id': 'span_0dc1d8e4e3a947f49cb9dc62', 'trace_id': 'trace_02709a2bdaa547218b32be3bf73c7dc8', 'parent_id': None, 'started_at': '2025-07-07T07:26:41.524770+00:00', 'ended_at': None, 'span_data': {'type': 'agent', 'name': 'Tracing Agent', 'handoffs': [], 'tools': None, 'output_type': 'str'}, 'error': None}\n",
      "Span started: <agents.tracing.spans.SpanImpl object at 0x000001F9EF08BCD0>\n",
      "{'object': 'trace.span', 'id': 'span_1dfdccd873724e03a5de0317', 'trace_id': 'trace_02709a2bdaa547218b32be3bf73c7dc8', 'parent_id': 'span_0dc1d8e4e3a947f49cb9dc62', 'started_at': '2025-07-07T07:26:41.524770+00:00', 'ended_at': None, 'span_data': {'type': 'response', 'response_id': None}, 'error': None}\n",
      "Span ended: <agents.tracing.spans.SpanImpl object at 0x000001F9EF08BCD0>\n",
      "{'object': 'trace.span', 'id': 'span_1dfdccd873724e03a5de0317', 'trace_id': 'trace_02709a2bdaa547218b32be3bf73c7dc8', 'parent_id': 'span_0dc1d8e4e3a947f49cb9dc62', 'started_at': '2025-07-07T07:26:41.524770+00:00', 'ended_at': '2025-07-07T07:26:44.376599+00:00', 'span_data': {'type': 'response', 'response_id': 'resp_686b76b26848819887d0c9aa306e3f960077453ba46b2681'}, 'error': None}\n",
      "Span ended: <agents.tracing.spans.SpanImpl object at 0x000001F9EF08B7D0>\n",
      "{'object': 'trace.span', 'id': 'span_0dc1d8e4e3a947f49cb9dc62', 'trace_id': 'trace_02709a2bdaa547218b32be3bf73c7dc8', 'parent_id': None, 'started_at': '2025-07-07T07:26:41.524770+00:00', 'ended_at': '2025-07-07T07:26:44.378707+00:00', 'span_data': {'type': 'agent', 'name': 'Tracing Agent', 'handoffs': [], 'tools': [], 'output_type': 'str'}, 'error': None}\n",
      "Result: Sure, please let me know what task you'd like to begin!\n",
      "Rating: It sounds positive and open, ready to accept a task. However, without context, it's hard to fully assess its effectiveness. If the intention is to show readiness and willingness, then it’s well-executed.\n",
      "Trace ended: <agents.tracing.traces.TraceImpl object at 0x000001F9EED98590>\n",
      "{'object': 'trace', 'id': 'trace_02709a2bdaa547218b32be3bf73c7dc8', 'workflow_name': 'Lifecyvle Trace', 'group_id': None, 'metadata': None}\n"
     ]
    }
   ],
   "source": [
    "### Local Tracing \n",
    "\n",
    "import os \n",
    "from agents import Agent, Runner, trace, set_trace_processors\n",
    "from agents.tracing.processor_interface import TracingProcessor\n",
    "\n",
    "class LocalTracingProcessor(TracingProcessor):\n",
    "    def __init__(self):\n",
    "        self.traces = []\n",
    "        self.spans = []\n",
    "\n",
    "    def on_trace_start(self, trace):\n",
    "        self.traces.append(trace)\n",
    "        print(f\"Trace started: {trace}\")\n",
    "        # print(f\"Trace ID: {trace.id}\")\n",
    "\n",
    "    def on_span_start(self, span):\n",
    "        self.spans.append(span)\n",
    "        print(f\"Span started: {span}\")\n",
    "        # print(f\"Span ID: {span.id}\")\n",
    "        # print(f\"Parent Span ID: {span.parent_id}\")\n",
    "        print(span.export())\n",
    "\n",
    "    def on_span_end(self, span):\n",
    "        print(f\"Span ended: {span}\")\n",
    "        # print(f\"Span ID: {span.id}\")\n",
    "        # print(f\"Parent Span ID: {span.parent_id}\")\n",
    "        print(span.export())\n",
    "\n",
    "    def on_trace_end(self, trace):\n",
    "        print(f\"Trace ended: {trace}\")\n",
    "        # print(f\"Trace ID: {trace.id}\")\n",
    "        print(trace.export())\n",
    "\n",
    "    def force_flush(self):\n",
    "        print(\"Flushing traces and spans...\")\n",
    "\n",
    "    def shutdown(self):\n",
    "        print(\"Shutting down tracing processor...\")\n",
    "        print(f\"Total traces: {len(self.traces)}\")\n",
    "        print(f\"Total spans: {len(self.spans)}\")\n",
    "        for trace in self.traces:\n",
    "            print(trace.export())\n",
    "        for span in self.spans:\n",
    "            print(span.export())\n",
    "\n",
    "##setup the trace processcr\n",
    "tracing_processor = LocalTracingProcessor()\n",
    "set_trace_processors([tracing_processor])\n",
    "\n",
    "async def main():\n",
    "    \n",
    "    agent = Agent(name = \"Tracing Agent\", instructions = \"This agent will trace its execution.\")\n",
    "\n",
    "    with trace(\"Lifecyvle Trace\"):\n",
    "        first_result = await Runner.run(agent, \"Start the task\")\n",
    "        second_result = await Runner.run(agent, f\"Rate this result: {first_result.final_output}\")\n",
    "        print(f\"Result: {first_result.final_output}\")\n",
    "        print(f\"Rating: {second_result.final_output}\")\n",
    "\n",
    "# Run the main function\n",
    "import asyncio\n",
    "asyncio.run(main())"
   ]
  }
 ],
 "metadata": {
  "kernelspec": {
   "display_name": "openai-agents-sdk",
   "language": "python",
   "name": "python3"
  },
  "language_info": {
   "codemirror_mode": {
    "name": "ipython",
    "version": 3
   },
   "file_extension": ".py",
   "mimetype": "text/x-python",
   "name": "python",
   "nbconvert_exporter": "python",
   "pygments_lexer": "ipython3",
   "version": "3.11.12"
  }
 },
 "nbformat": 4,
 "nbformat_minor": 5
}
