{
 "cells": [
  {
   "cell_type": "code",
   "execution_count": 12,
   "id": "cf6bbd5d",
   "metadata": {},
   "outputs": [],
   "source": [
    "import nest_asyncio\n",
    "nest_asyncio.apply()"
   ]
  },
  {
   "cell_type": "code",
   "execution_count": 13,
   "id": "bd39a434",
   "metadata": {},
   "outputs": [
    {
     "ename": "NameError",
     "evalue": "name 'asyncio' is not defined",
     "output_type": "error",
     "traceback": [
      "\u001b[31m---------------------------------------------------------------------------\u001b[39m",
      "\u001b[31mNameError\u001b[39m                                 Traceback (most recent call last)",
      "\u001b[36mCell\u001b[39m\u001b[36m \u001b[39m\u001b[32mIn[13]\u001b[39m\u001b[32m, line 30\u001b[39m\n\u001b[32m     24\u001b[39m \u001b[38;5;66;03m# agent = Agent(name=\"Weather ChatModel\", tools=[get_weather], model= OpenAIChatCompletionsModel(openai_client=client, model=\"gpt-4o-mini\"))\u001b[39;00m\n\u001b[32m     25\u001b[39m \n\u001b[32m     26\u001b[39m \u001b[38;5;66;03m# result = Runner.run_sync(agent, \"What is the weather in Islamabad.\")\u001b[39;00m\n\u001b[32m     27\u001b[39m \u001b[38;5;66;03m# print(result.final_output)\u001b[39;00m\n\u001b[32m     29\u001b[39m \u001b[38;5;28;01mif\u001b[39;00m \u001b[34m__name__\u001b[39m == \u001b[33m\"\u001b[39m\u001b[33m__main__\u001b[39m\u001b[33m\"\u001b[39m:\n\u001b[32m---> \u001b[39m\u001b[32m30\u001b[39m     \u001b[43masyncio\u001b[49m.run(main())\n",
      "\u001b[31mNameError\u001b[39m: name 'asyncio' is not defined"
     ]
    }
   ],
   "source": [
    "from agents import Agent, Runner, OpenAIChatCompletionsModel\n",
    "from agents.tool import function_tool\n",
    "from dotenv import load_dotenv\n",
    "import openai\n",
    "load_dotenv()\n",
    "\n",
    "client = openai.OpenAI()\n",
    "\n",
    "\n",
    "@function_tool\n",
    "def get_weather(location: str) -> str:\n",
    "  \"\"\"\n",
    "  Fetch the weather for a given location, returning a short description.\n",
    "  \"\"\"\n",
    "  # Example logic\n",
    "  return f\"The weather in {location} is 22 degrees.\"\n",
    "\n",
    "async def main():\n",
    "  agent = Agent(name=\"Weather ChatModel\", tools=[get_weather], model= OpenAIChatCompletionsModel(openai_client=client, model=\"gpt-4o-mini\"))\n",
    "\n",
    "  result = await Runner.run(agent, \"What is the weather in Islamabad.\")\n",
    "  print(result.final_output)\n",
    "\n",
    "# agent = Agent(name=\"Weather ChatModel\", tools=[get_weather], model= OpenAIChatCompletionsModel(openai_client=client, model=\"gpt-4o-mini\"))\n",
    "\n",
    "# result = Runner.run_sync(agent, \"What is the weather in Islamabad.\")\n",
    "# print(result.final_output)\n",
    "\n",
    "if __name__ == \"__main__\":\n",
    "    asyncio.run(main())"
   ]
  }
 ],
 "metadata": {
  "kernelspec": {
   "display_name": "openai-agents-sdk",
   "language": "python",
   "name": "python3"
  },
  "language_info": {
   "codemirror_mode": {
    "name": "ipython",
    "version": 3
   },
   "file_extension": ".py",
   "mimetype": "text/x-python",
   "name": "python",
   "nbconvert_exporter": "python",
   "pygments_lexer": "ipython3",
   "version": "3.11.12"
  }
 },
 "nbformat": 4,
 "nbformat_minor": 5
}
