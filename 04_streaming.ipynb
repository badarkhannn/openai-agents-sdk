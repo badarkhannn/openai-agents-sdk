{
 "cells": [
  {
   "cell_type": "markdown",
   "id": "d8332592",
   "metadata": {},
   "source": [
    "### Streaming in the SDK"
   ]
  },
  {
   "cell_type": "code",
   "execution_count": 3,
   "id": "da48a27c",
   "metadata": {},
   "outputs": [],
   "source": [
    "import nest_asyncio\n",
    "nest_asyncio.apply()"
   ]
  },
  {
   "cell_type": "code",
   "execution_count": 7,
   "id": "b63657d3",
   "metadata": {},
   "outputs": [
    {
     "name": "stdout",
     "output_type": "stream",
     "text": [
      "1. \"The Rise of Creative AI: Exploring the Latest Innovations in Art and Music Generation\"\n",
      "2. \"AI and the Future of Work: How Automation is Reshaping Industries\"\n",
      "3. \"From Chatbots to Companions: The Evolution of Conversational AI\"\n",
      "4. \"AI Ethics and Privacy in 2023: Navigating the Challenges of a Connected World\"\n",
      "5. \"The Power of AI in Healthcare: Revolutionizing Diagnosis and Treatment\""
     ]
    }
   ],
   "source": [
    "import asyncio\n",
    "import random\n",
    "from agents import Agent, Runner, ItemHelpers\n",
    "from openai.types.responses import ResponseTextDeltaEvent\n",
    "from dotenv import load_dotenv\n",
    "load_dotenv()\n",
    "\n",
    "async def main():\n",
    "    agent = Agent(\n",
    "        name=\"Blog Writer\",\n",
    "        instructions=\"you're helpful Blog Writer, write a blog post title with the latest trends in AI.\",\n",
    "    )\n",
    "\n",
    "    result = Runner.run_streamed(agent, input=\"Please share me 5 Blog post title\" )\n",
    "\n",
    "    async for event in result.stream_events():\n",
    "        if event.type == \"raw_response_event\" and isinstance(event.data, ResponseTextDeltaEvent):\n",
    "            print(event.data.delta, end=\"\", flush=True)\n",
    "\n",
    "asyncio.run(main())\n"
   ]
  },
  {
   "cell_type": "code",
   "execution_count": null,
   "id": "916feb5e",
   "metadata": {},
   "outputs": [
    {
     "name": "stdout",
     "output_type": "stream",
     "text": [
      "=== Run starting ===\n",
      "Agent updated: Joker\n",
      "-- Tool was called\n",
      "-- Tool output: 4\n",
      "-- Message output:\n",
      " Here are four jokes for you:\n",
      "\n",
      "1. **Why don't scientists trust atoms?**\n",
      "   Because they make up everything!\n",
      "\n",
      "2. **What do you get when you cross a snowman with a vampire?**\n",
      "   Frostbite.\n",
      "\n",
      "3. **Why did the scarecrow win an award?**\n",
      "   Because he was outstanding in his field!\n",
      "\n",
      "4. **Why don't skeletons fight each other?**\n",
      "   They don't have the guts.\n",
      "=== Run complete ===\n"
     ]
    }
   ],
   "source": [
    "import asyncio\n",
    "import random\n",
    "\n",
    "from agents import Agent, ItemHelpers, Runner, function_tool\n",
    "\n",
    "\n",
    "@function_tool\n",
    "def how_many_jokes() -> int:\n",
    "    return random.randint(1, 10)\n",
    "\n",
    "\n",
    "async def main():\n",
    "    agent = Agent(\n",
    "        name=\"Joker\",\n",
    "        instructions=\"First call the `how_many_jokes` tool, then tell that many jokes.\",\n",
    "        tools=[how_many_jokes],\n",
    "    )\n",
    "\n",
    "    result = Runner.run_streamed(\n",
    "        agent,\n",
    "        input=\"Hello\",\n",
    "\n",
    "    )\n",
    "    print(\"=== Run starting ===\")\n",
    "    async for event in result.stream_events():\n",
    "        # We'll ignore the raw responses event deltas\n",
    "        if event.type == \"raw_response_event\":\n",
    "            continue\n",
    "        elif event.type == \"agent_updated_stream_event\":\n",
    "            print(f\"Agent updated: {event.new_agent.name}\")\n",
    "            continue\n",
    "        elif event.type == \"run_item_stream_event\":\n",
    "            if event.item.type == \"tool_call_item\":\n",
    "                print(\"-- Tool was called\")\n",
    "            elif event.item.type == \"tool_call_output_item\":\n",
    "                print(f\"-- Tool output: {event.item.output}\")\n",
    "            elif event.item.type == \"message_output_item\":\n",
    "                print(f\"-- Message output:\\n {ItemHelpers.text_message_output(event.item)}\")\n",
    "            else:\n",
    "                pass  # Ignore other event types\n",
    "\n",
    "\n",
    "\n",
    "\n",
    "try:\n",
    "  asyncio.run(main())\n",
    "except:\n",
    "  pass\n",
    "print(\"=== Run complete ===\")\n"
   ]
  },
  {
   "cell_type": "code",
   "execution_count": null,
   "id": "a1fe2211",
   "metadata": {},
   "outputs": [
    {
     "ename": "NameError",
     "evalue": "name 'event' is not defined",
     "output_type": "error",
     "traceback": [
      "\u001b[31m---------------------------------------------------------------------------\u001b[39m",
      "\u001b[31mNameError\u001b[39m                                 Traceback (most recent call last)",
      "\u001b[36mCell\u001b[39m\u001b[36m \u001b[39m\u001b[32mIn[9]\u001b[39m\u001b[32m, line 1\u001b[39m\n\u001b[32m----> \u001b[39m\u001b[32m1\u001b[39m \u001b[38;5;28mprint\u001b[39m(\u001b[38;5;28mdir\u001b[39m(\u001b[43mevent\u001b[49m))\n",
      "\u001b[31mNameError\u001b[39m: name 'event' is not defined"
     ]
    }
   ],
   "source": []
  }
 ],
 "metadata": {
  "kernelspec": {
   "display_name": "openai-agents-sdk",
   "language": "python",
   "name": "python3"
  },
  "language_info": {
   "codemirror_mode": {
    "name": "ipython",
    "version": 3
   },
   "file_extension": ".py",
   "mimetype": "text/x-python",
   "name": "python",
   "nbconvert_exporter": "python",
   "pygments_lexer": "ipython3",
   "version": "3.11.12"
  }
 },
 "nbformat": 4,
 "nbformat_minor": 5
}
