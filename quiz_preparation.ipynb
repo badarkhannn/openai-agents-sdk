{
 "cells": [
  {
   "cell_type": "code",
   "execution_count": 1,
   "id": "ef5a273e",
   "metadata": {},
   "outputs": [],
   "source": [
    "import nest_asyncio\n",
    "nest_asyncio.apply()"
   ]
  },
  {
   "cell_type": "code",
   "execution_count": 19,
   "id": "0772be16",
   "metadata": {},
   "outputs": [
    {
     "name": "stdout",
     "output_type": "stream",
     "text": [
      "Resutl: (2, 3, 4)\n",
      "Type: <class 'tuple'>\n"
     ]
    }
   ],
   "source": [
    "# Genetric\n",
    "from typing import TypeVar\n",
    "T = TypeVar('T')\n",
    "\n",
    "def get_quiz_questions(quiz: T) -> list[T]:\n",
    "    return quiz\n",
    "\n",
    "# Example usage\n",
    "result = get_quiz_questions(\"Hello\")\n",
    "result = get_quiz_questions((2, 3, 4))\n",
    "print(f\"Resutl: {result}\")\n",
    "print(f\"Type: {type(result)}\")"
   ]
  },
  {
   "cell_type": "code",
   "execution_count": 20,
   "id": "d1281643",
   "metadata": {},
   "outputs": [
    {
     "name": "stdout",
     "output_type": "stream",
     "text": [
      "Output: id=1 title='Sample Quiz' question='What is the capital of France?'\n",
      "Type: <class '__main__.Quiz'>\n"
     ]
    }
   ],
   "source": [
    "from pydantic import BaseModel, Field\n",
    "from typing import TypeVar\n",
    "\n",
    "T = TypeVar('T')\n",
    "\n",
    "class Quiz(BaseModel):\n",
    "    id: T\n",
    "    title: T\n",
    "    question: T \n",
    "\n",
    "output = Quiz(id=1, title=\"Sample Quiz\", question=\"What is the capital of France?\")\n",
    "print(f\"Output: {output}\")\n",
    "print(f\"Type: {type(output)}\")"
   ]
  },
  {
   "cell_type": "code",
   "execution_count": 24,
   "id": "d954775b",
   "metadata": {},
   "outputs": [
    {
     "name": "stdout",
     "output_type": "stream",
     "text": [
      "Agent QuizAgent started with context: RunContextWrapper(context=None, usage=Usage(requests=0, input_tokens=0, input_tokens_details=InputTokensDetails(cached_tokens=0), output_tokens=0, output_tokens_details=OutputTokensDetails(reasoning_tokens=0), total_tokens=0))\n",
      "Agent QuizAgent ended with context: RunContextWrapper(context=None, usage=Usage(requests=1, input_tokens=22, input_tokens_details=InputTokensDetails(cached_tokens=0), output_tokens=17, output_tokens_details=OutputTokensDetails(reasoning_tokens=0), total_tokens=39))\n",
      "Sure! Here's a question for you:\n",
      "\n",
      "What is the capital city of Japan?\n"
     ]
    }
   ],
   "source": [
    "## Run Hook\n",
    "from agents import Agent, Runner, RunHooks\n",
    "\n",
    "class MycustomHook(RunHooks):\n",
    "\n",
    "    async def on_agent_start(self, context, agent,):\n",
    "        print(f\"Agent {agent.name} started with context: {context}\")\n",
    "\n",
    "    async def on_agent_end(self, context, agent, output):\n",
    "        print(f\"Agent {agent.name} ended with context: {context}\")\n",
    "\n",
    "##NOTE: Tool ka code out in Run Hook mein hamesha \"str\" he hogaa.\n",
    "\n",
    "agent = Agent(name=\"QuizAgent\", instructions=\"Answer the quiz questions.\")\n",
    "result = Runner.run_sync(agent, input=\"Generate a one question quiz.\", hooks=MycustomHook())\n",
    "print(result.final_output)"
   ]
  },
  {
   "cell_type": "code",
   "execution_count": 25,
   "id": "16b63400",
   "metadata": {},
   "outputs": [
    {
     "name": "stdout",
     "output_type": "stream",
     "text": [
      "Agent QuizAgent started with context: RunContextWrapper(context=None, usage=Usage(requests=0, input_tokens=0, input_tokens_details=InputTokensDetails(cached_tokens=0), output_tokens=0, output_tokens_details=OutputTokensDetails(reasoning_tokens=0), total_tokens=0)) with output: id=1 title='Sample Quiz' question='What is the capital of France?'\n"
     ]
    },
    {
     "name": "stdout",
     "output_type": "stream",
     "text": [
      "Agent QuizAgent ended with context: RunContextWrapper(context=None, usage=Usage(requests=1, input_tokens=22, input_tokens_details=InputTokensDetails(cached_tokens=0), output_tokens=47, output_tokens_details=OutputTokensDetails(reasoning_tokens=0), total_tokens=69)) with output: Sure! Here's a quiz question for you:\n",
      "\n",
      "**What is the primary chemical element found in the composition of diamonds?**\n",
      "\n",
      "A) Carbon  \n",
      "B) Silicon  \n",
      "C) Oxygen  \n",
      "D) Hydrogen  \n",
      "\n",
      "Please choose the correct answer.\n",
      "Sure! Here's a quiz question for you:\n",
      "\n",
      "**What is the primary chemical element found in the composition of diamonds?**\n",
      "\n",
      "A) Carbon  \n",
      "B) Silicon  \n",
      "C) Oxygen  \n",
      "D) Hydrogen  \n",
      "\n",
      "Please choose the correct answer.\n"
     ]
    }
   ],
   "source": [
    "## Run Hook\n",
    "from agents import Agent, Runner, AgentHooks\n",
    "\n",
    "class MycustomHook(AgentHooks):\n",
    "\n",
    "    async def on_start(self, context, agent):\n",
    "        print(f\"Agent {agent.name} started with context: {context} with output: {output}\")\n",
    "\n",
    "    async def on_end(self, context, agent, output):\n",
    "        print(f\"Agent {agent.name} ended with context: {context} with output: {output}\")\n",
    "\n",
    "##NOTE: Tool ka code out in Run Hook mein hamesha \"str\" he hogaa.\n",
    "\n",
    "agent = Agent(name=\"QuizAgent\", instructions=\"Answer the quiz questions.\", hooks=MycustomHook())\n",
    "result = Runner.run_sync(agent, input=\"Generate a one question quiz.\")\n",
    "print(result.final_output)"
   ]
  },
  {
   "cell_type": "code",
   "execution_count": null,
   "id": "1840df42",
   "metadata": {},
   "outputs": [
    {
     "name": "stdout",
     "output_type": "stream",
     "text": [
      "Agent QuizAgent started with context: Badar Khan with output: id=1 title='Sample Quiz' question='What is the capital of France?'\n",
      "Agent QuizAgent ended with context: RunContextWrapper(context=Context(user_name='Badar Khan', is_premium=True), usage=Usage(requests=1, input_tokens=89, input_tokens_details=InputTokensDetails(cached_tokens=0), output_tokens=37, output_tokens_details=OutputTokensDetails(reasoning_tokens=0), total_tokens=126)) with output: question='What is the capital of France?' answer='A) Berlin\\nB) London\\nC) Paris\\nD) Madrid' correct_answer='C) Paris'\n",
      "question='What is the capital of France?' answer='A) Berlin\\nB) London\\nC) Paris\\nD) Madrid' correct_answer='C) Paris'\n"
     ]
    }
   ],
   "source": [
    "## Context \n",
    "\n",
    "## Run Hook\n",
    "from agents import Agent, Runner, AgentHooks, RunContextWrapper\n",
    "from dataclasses import dataclass\n",
    "from pydantic import BaseModel, Field\n",
    "\n",
    "@dataclass\n",
    "class Context:\n",
    "    user_name: str\n",
    "    is_premium: bool\n",
    "\n",
    "\n",
    "class MycustomHook(AgentHooks):\n",
    "\n",
    "    async def on_start(self, context: RunContextWrapper[Context], agent):\n",
    "        print(f\"Agent {agent.name} started with context: {context.context.user_name} with output: {output}\")\n",
    "\n",
    "    async def on_end(self, context, agent, output):\n",
    "        print(f\"Agent {agent.name} ended with context: {context} with output: {output}\")\n",
    "\n",
    "class OutputStructured(BaseModel):\n",
    "    question: str\n",
    "    answer: str = Field(description=\"List of answer options for the question\")\n",
    "    correct_answer: str\n",
    "\n",
    "\n",
    "user_data = Context(user_name=\"Badar Khan\", is_premium=True)\n",
    "\n",
    "agent = Agent(name=\"QuizAgent\", instructions=\"Answer the quiz questions.\", hooks=MycustomHook(), output_type=OutputStructured)\n",
    "result = Runner.run_sync(agent, input=\"Generate a 3 question quiz.\", context=user_data)\n",
    "print(result.final_output)"
   ]
  },
  {
   "cell_type": "code",
   "execution_count": 33,
   "id": "0752a106",
   "metadata": {},
   "outputs": [
    {
     "name": "stdout",
     "output_type": "stream",
     "text": [
      "Agent QuizAgent started with context: Badar Khan with output: id=1 title='Sample Quiz' question='What is the capital of France?'\n",
      "Agent QuizAgent ended with context: RunContextWrapper(context=Context(user_name='Badar Khan', is_premium=True), usage=Usage(requests=1, input_tokens=85, input_tokens_details=InputTokensDetails(cached_tokens=0), output_tokens=71, output_tokens_details=OutputTokensDetails(reasoning_tokens=0), total_tokens=156)) with output: question=\"Which element has the chemical symbol 'O'?\" answer='Nitrogen' correct_answer='Oxygen'\n",
      "question=\"Which element has the chemical symbol 'O'?\" answer='Nitrogen' correct_answer='Oxygen'\n"
     ]
    }
   ],
   "source": [
    "## Context \n",
    "\n",
    "## Run Hook\n",
    "from agents import Agent, Runner, AgentHooks, RunContextWrapper\n",
    "from dataclasses import dataclass\n",
    "from pydantic import BaseModel, Field\n",
    "\n",
    "@dataclass\n",
    "class Context:\n",
    "    user_name: str\n",
    "    is_premium: bool\n",
    "\n",
    "\n",
    "class MycustomHook(AgentHooks):\n",
    "\n",
    "    async def on_start(self, context: RunContextWrapper[Context], agent):\n",
    "        print(f\"Agent {agent.name} started with context: {context.context.user_name} with output: {output}\")\n",
    "\n",
    "    async def on_end(self, context, agent, output):\n",
    "        print(f\"Agent {agent.name} ended with context: {context} with output: {output}\")\n",
    "\n",
    "class OutputStructured(BaseModel):\n",
    "    question: str\n",
    "    answer: str\n",
    "    correct_answer: str\n",
    "\n",
    "\n",
    "user_data = Context(user_name=\"Badar Khan\", is_premium=True)\n",
    "\n",
    "agent = Agent(name=\"QuizAgent\", instructions=\"Answer the quiz questions.\", hooks=MycustomHook(), output_type=OutputStructured)\n",
    "result = Runner.run_sync(agent, input=\"Generate a 3 question quiz.\", context=user_data)\n",
    "print(result.final_output)"
   ]
  },
  {
   "cell_type": "code",
   "execution_count": 1,
   "id": "0eb75d99",
   "metadata": {},
   "outputs": [],
   "source": [
    "import nest_asyncio\n",
    "nest_asyncio.apply()"
   ]
  },
  {
   "cell_type": "code",
   "execution_count": 10,
   "id": "47c538ff",
   "metadata": {},
   "outputs": [
    {
     "name": "stdout",
     "output_type": "stream",
     "text": [
      "Adding 2 and 3\n",
      "\\(2 + 3 = 5\\)\n"
     ]
    }
   ],
   "source": [
    "from agents import Agent, Runner, function_tool, ModelSettings\n",
    "\n",
    "\n",
    "@function_tool\n",
    "def add_numbers(a: int, b: int) -> int:\n",
    "    \"\"\"Adds two numbers together.\"\"\"\n",
    "    print(f\"Adding {a} and {b}\")\n",
    "    return a + b\n",
    "\n",
    "agent = Agent(\n",
    "    name = \"Workflow Agent\",\n",
    "    instructions=\"You're helpfull assistance\",\n",
    "    tools=[add_numbers],\n",
    "    tool_use_behavior= \"run_llm_again\"\n",
    ")\n",
    "\n",
    "result = Runner.run_sync(agent, \"what is 2+3?\")\n",
    "print(result.final_output)"
   ]
  },
  {
   "cell_type": "code",
   "execution_count": null,
   "id": "3408a190",
   "metadata": {},
   "outputs": [],
   "source": [
    "from agents import Agent, Runner, function_tool, ModelSettings\n",
    "\n",
    "\n",
    "@function_tool\n",
    "def add_numbers(a: int, b: int) -> int:\n",
    "    \"\"\"Adds two numbers together.\"\"\"\n",
    "    print(f\"Adding {a} and {b}\")\n",
    "    return a + b\n",
    "\n",
    "agent = Agent(\n",
    "    name = \"Workflow Agent\",\n",
    "    instructions=\"You're helpfull assistance\",\n",
    "    tools=[add_numbers],\n",
    "    tool_use_behavior= \"run_llm_again\" # this is the default behavior, you can remove it if you want\n",
    ")\n",
    "\n",
    "result = Runner.run_sync(agent, \"what is 2+3?\")\n",
    "print(result.final_output)"
   ]
  },
  {
   "cell_type": "code",
   "execution_count": null,
   "id": "054ccead",
   "metadata": {},
   "outputs": [
    {
     "name": "stdout",
     "output_type": "stream",
     "text": [
      "The answer is 5.\n"
     ]
    }
   ],
   "source": [
    "from agents import Agent, Runner, function_tool, ModelSettings\n",
    "\n",
    "@function_tool\n",
    "def add_numbers(a: int, b: int):\n",
    "    \"\"\"Adds two numbers together.\"\"\"\n",
    "    print(f\"Adding {a} and {b}\")\n",
    "    return print(f\"I'm returning statement {a + b}\")\n",
    "    \n",
    "agent = Agent(\n",
    "    name = \"Workflow Agent\",\n",
    "    instructions=\"You're helpfull assistance\",\n",
    "    tools=[add_numbers],\n",
    "    tool_use_behavior= \"stop_on_first_tool\",\n",
    "    model_settings= ModelSettings(\n",
    "        tool_choice = 'none'  # This will not use any tool, just return the LLM response It will overrrise the tools[] in the agent definition\n",
    "    )\n",
    ")\n",
    "\n",
    "result = Runner.run_sync(agent, \"what is 2+3?\")\n",
    "print(result.final_output)"
   ]
  },
  {
   "cell_type": "code",
   "execution_count": null,
   "id": "356745fb",
   "metadata": {},
   "outputs": [
    {
     "name": "stdout",
     "output_type": "stream",
     "text": [
      "Adding 2 and 3\n",
      "I'm returning statement 5\n",
      "Stopping at the Stop tool.\n"
     ]
    }
   ],
   "source": [
    "from agents import Agent, Runner, function_tool, ModelSettings\n",
    "from agents.agent import StopAtTools, ToolsToFinalOutputFunction\n",
    "\n",
    "@function_tool\n",
    "def add_numbers(a: int, b: int):\n",
    "    \"\"\"Adds two numbers together.\"\"\"\n",
    "    print(f\"Adding {a} and {b}\")\n",
    "    return print(f\"I'm returning statement {a + b}\")\n",
    "\n",
    "@function_tool\n",
    "def stop_at_tool_names():\n",
    "    \"\"\"This tool is used to stop the agent after the first tool is used.\"\"\"\n",
    "    return \"Stopping at the Stop tool.\"\n",
    "    \n",
    "agent = Agent(\n",
    "    name = \"Workflow Agent\",\n",
    "    instructions=\"You're helpfull assistance\",\n",
    "    tools=[add_numbers, stop_at_tool_names],\n",
    "    tool_use_behavior = StopAtTools(stop_at_tool_names=[stop_at_tool_names]),  # You need to pass the tool name as a string in the list to stop the agent after the first tool is used i.e \"stop_at_tool_names\"\n",
    ")\n",
    "\n",
    "result = Runner.run_sync(agent, \"what is 2+3? and stop at the stop tool\")\n",
    "print(result.final_output)"
   ]
  },
  {
   "cell_type": "code",
   "execution_count": 28,
   "id": "40cd6aaa",
   "metadata": {},
   "outputs": [
    {
     "name": "stdout",
     "output_type": "stream",
     "text": [
      "Adding 2 and 3\n",
      "I'm returning statement 5\n",
      "Stopping at the Stop tool.\n"
     ]
    }
   ],
   "source": [
    "from agents import Agent, Runner, function_tool, ModelSettings\n",
    "from agents.agent import StopAtTools, ToolsToFinalOutputFunction\n",
    "\n",
    "@function_tool\n",
    "def add_numbers(a: int, b: int):\n",
    "    \"\"\"Adds two numbers together.\"\"\"\n",
    "    print(f\"Adding {a} and {b}\")\n",
    "    return print(f\"I'm returning statement {a + b}\")\n",
    "\n",
    "@function_tool\n",
    "def stop_at_tool_names():\n",
    "    \"\"\"This tool is used to stop the agent after the first tool is used.\"\"\"\n",
    "    return \"Stopping at the Stop tool.\"\n",
    "    \n",
    "agent = Agent(\n",
    "    name = \"Workflow Agent\",\n",
    "    instructions=\"You're helpfull assistance\",\n",
    "    tools=[add_numbers, stop_at_tool_names],\n",
    "    tool_use_behavior = StopAtTools(stop_at_tool_names=[\"stop_at_tool_names\"]),  # This will stop the agent after the first tool is used\n",
    ")\n",
    "\n",
    "result = Runner.run_sync(agent, \"what is 2+3? and stop at the stop tool\")\n",
    "print(result.final_output)"
   ]
  },
  {
   "cell_type": "code",
   "execution_count": 38,
   "id": "936e0467",
   "metadata": {},
   "outputs": [
    {
     "name": "stdout",
     "output_type": "stream",
     "text": [
      "I'm in the stop at tool names function\n",
      "Hello! How can I assist you today?\n"
     ]
    }
   ],
   "source": [
    "from agents import Agent, Runner, function_tool, ModelSettings\n",
    "from agents.agent import StopAtTools, ToolsToFinalOutputFunction\n",
    "\n",
    "@function_tool\n",
    "def add_numbers(a: int, b: int):\n",
    "    \"\"\"Adds two numbers together.\"\"\"\n",
    "    print(f\"Adding {a} and {b}\")\n",
    "    return print(f\"I'm returning statement {a + b}\")\n",
    "\n",
    "@function_tool\n",
    "def stop_at_tool_names():\n",
    "    \"\"\"This tool is used to stop the agent after the first tool is used.\"\"\"\n",
    "    print(\"I'm in the stop at tool names function\")\n",
    "    return \"Stopping at the Stop tool.\"\n",
    "\n",
    "@function_tool\n",
    "def human_review():\n",
    "    \"\"\"This tool is used to review the output.\"\"\"\n",
    "    return \"Reviewing the output.\"\n",
    "    \n",
    "agent = Agent(\n",
    "    name = \"Workflow Agent\",\n",
    "    instructions=\"You're helpfull assistance\",\n",
    "    tools=[add_numbers, stop_at_tool_names, human_review],\n",
    "    # tool_use_behavior = StopAtTools(stop_at_tool_names=[\"stop_at_tool_names\"]),  # This will stop the agent after the first tool is used\n",
    "    model_settings=  ModelSettings(tool_choice=\"required\"),\n",
    "    # reset_tool_choice = False # Max turn is 10 so after 10 calls the reset tool choice will be reset to True\n",
    ")\n",
    "\n",
    "result = Runner.run_sync(agent, \"Hi\")\n",
    "print(result.final_output)"
   ]
  },
  {
   "cell_type": "code",
   "execution_count": null,
   "id": "57c0f3db",
   "metadata": {},
   "outputs": [],
   "source": [
    "from agents import Agent, Runner, function_tool, ModelSettings\n",
    "from agents.agent import StopAtTools, ToolsToFinalOutputFunction\n",
    "\n",
    "@function_tool\n",
    "def add_numbers(a: int, b: int):\n",
    "    \"\"\"Adds two numbers together.\"\"\"\n",
    "    print(f\"Adding {a} and {b}\")\n",
    "    return print(f\"I'm returning statement {a + b}\")\n",
    "\n",
    "@function_tool\n",
    "def stop_at_tool_names():\n",
    "    \"\"\"This tool is used to stop the agent after the first tool is used.\"\"\"\n",
    "    print(\"I'm in the stop at tool names function\")\n",
    "    return \"Stopping at the Stop tool.\"\n",
    "\n",
    "@function_tool\n",
    "def human_review():\n",
    "    \"\"\"This tool is used to review the output.\"\"\"\n",
    "    return \"Reviewing the output.\"\n",
    "    \n",
    "agent = Agent(\n",
    "    name = \"Workflow Agent\",\n",
    "    instructions=\"You're helpfull assistance\",\n",
    "    tools=[add_numbers, stop_at_tool_names, human_review],\n",
    "    # tool_use_behavior = StopAtTools(stop_at_tool_names=[\"stop_at_tool_names\"]),  # This will stop the agent after the first tool is used\n",
    "    model_settings=  ModelSettings(tool_choice=\"required\"),\n",
    "    # reset_tool_choice = False # Max turn is 10 so after 10 calls the reset tool choice will be reset to True\n",
    ")\n",
    "\n",
    "result = Runner.run_sync(agent, \"Hi\")\n",
    "print(result.final_output)"
   ]
  },
  {
   "cell_type": "code",
   "execution_count": null,
   "id": "9c64328f",
   "metadata": {},
   "outputs": [
    {
     "name": "stdout",
     "output_type": "stream",
     "text": [
      "[FunctionTool(name='add_numbers', description='Adds two numbers together.', params_json_schema={'properties': {'a': {'title': 'A', 'type': 'integer'}, 'b': {'title': 'B', 'type': 'integer'}}, 'required': ['a', 'b'], 'title': 'add_numbers_args', 'type': 'object', 'additionalProperties': False}, on_invoke_tool=<function function_tool.<locals>._create_function_tool.<locals>._on_invoke_tool at 0x000001CE1D48BE20>, strict_json_schema=True, is_enabled=True), FunctionTool(name='stop_at_tool_names', description='This tool is used to stop the agent after the first tool is used.', params_json_schema={'properties': {}, 'title': 'stop_at_tool_names_args', 'type': 'object', 'additionalProperties': False, 'required': []}, on_invoke_tool=<function function_tool.<locals>._create_function_tool.<locals>._on_invoke_tool at 0x000001CE1DD99C60>, strict_json_schema=True, is_enabled=True), FunctionTool(name='human_review', description='This tool is used to review the output.', params_json_schema={'properties': {}, 'title': 'human_review_args', 'type': 'object', 'additionalProperties': False, 'required': []}, on_invoke_tool=<function function_tool.<locals>._create_function_tool.<locals>._on_invoke_tool at 0x000001CE1D9F34C0>, strict_json_schema=True, is_enabled=True)]\n"
     ]
    }
   ],
   "source": [
    "from agents import Agent, Runner, function_tool, ModelSettings, FunctionTool\n",
    "from agents.agent import StopAtTools, ToolsToFinalOutputFunction\n",
    "\n",
    "@function_tool(strict_mode=True)\n",
    "def add_numbers(a: int, b: int):\n",
    "    \"\"\"Adds two numbers together.\"\"\"\n",
    "    print(f\"Adding {a} and {b}\")\n",
    "    return print(f\"I'm returning statement {a + b}\")\n",
    "\n",
    "@function_tool\n",
    "def stop_at_tool_names():\n",
    "    \"\"\"This tool is used to stop the agent after the first tool is used.\"\"\"\n",
    "    print(\"I'm in the stop at tool names function\")\n",
    "    return \"Stopping at the Stop tool.\"\n",
    "\n",
    "@function_tool\n",
    "def human_review():\n",
    "    \"\"\"This tool is used to review the output.\"\"\"\n",
    "    return \"Reviewing the output.\"\n",
    "    \n",
    "agent = Agent(\n",
    "    name = \"Workflow Agent\",\n",
    "    instructions=\"You're helpfull assistance\",\n",
    "    tools=[add_numbers, stop_at_tool_names, human_review],\n",
    "    # tool_use_behavior = StopAtTools(stop_at_tool_names=[\"stop_at_tool_names\"]),  # This will stop the agent after the first tool is used\n",
    "    model_settings=  ModelSettings(tool_choice=\"required\"),\n",
    "    # reset_tool_choice = False # Max turn is 10 so after 10 calls the reset tool choice will be reset to True\n",
    ")\n",
    "\n",
    "# result = Runner.run_sync(agent, \"Hi\")\n",
    "# print(result.final_output)\n",
    "\n",
    "print(agent.tools)"
   ]
  },
  {
   "cell_type": "code",
   "execution_count": 2,
   "id": "f2d1ad18",
   "metadata": {},
   "outputs": [
    {
     "name": "stderr",
     "output_type": "stream",
     "text": [
      "[non-fatal] Tracing: server error 500, retrying.\n"
     ]
    },
    {
     "name": "stdout",
     "output_type": "stream",
     "text": [
      "I'm in the stop at tool names function\n",
      "It seems like your message is a bit unclear. Could you please provide more details or rephrase your question?\n"
     ]
    }
   ],
   "source": [
    "from agents import Agent, Runner, function_tool, ModelSettings, FunctionTool, RunContextWrapper\n",
    "from pydantic import BaseModel\n",
    "from typing import Any\n",
    "from agents.agent import StopAtTools, ToolsToFinalOutputFunction\n",
    "\n",
    "\n",
    "\n",
    "def do_some_work(data: str) -> str:\n",
    "    \"\"\"This function does some work.\"\"\"\n",
    "    print(f\"Doing some work with {data}\")\n",
    "    return f\"Work done with {data}\"\n",
    "\n",
    "\n",
    "class FunctionArgs(BaseModel):\n",
    "    username: str\n",
    "    age: int\n",
    "\n",
    "\n",
    "async def run_function(ctx: RunContextWrapper[Any], args: str) -> str:\n",
    "    parsed = FunctionArgs.model_validate_json(args)\n",
    "    return do_some_work(f\"{parsed.username} is {parsed.age} years old.\")\n",
    "\n",
    "tool = FunctionTool(\n",
    "    name=\"User Profile Function\",\n",
    "    description=\"This function processes user profile data.\",\n",
    "    params_json_schema=FunctionArgs.model_json_schema(),\n",
    "    on_invoke_tool=run_function,\n",
    ")\n",
    "\n",
    "@function_tool()\n",
    "def add_numbers(a: int, b: int):\n",
    "    \"\"\"Adds two numbers together.\"\"\"\n",
    "    print(f\"Adding {a} and {b}\")\n",
    "    return print(f\"I'm returning statement {a + b}\")\n",
    "\n",
    "@function_tool\n",
    "def stop_at_tool_names():\n",
    "    \"\"\"This tool is used to stop the agent after the first tool is used.\"\"\"\n",
    "    print(\"I'm in the stop at tool names function\")\n",
    "    return \"Stopping at the Stop tool.\"\n",
    "\n",
    "@function_tool\n",
    "def human_review():\n",
    "    \"\"\"This tool is used to review the output.\"\"\"\n",
    "    return \"Reviewing the output.\"\n",
    "\n",
    "\n",
    "    \n",
    "agent = Agent(\n",
    "    name = \"Workflow Agent\",\n",
    "    instructions=\"You're helpfull assistance\",\n",
    "    tools=[add_numbers, stop_at_tool_names, human_review],\n",
    "    # tool_use_behavior = StopAtTools(stop_at_tool_names=[\"stop_at_tool_names\"]),  # This will stop the agent after the first tool is used\n",
    "    model_settings=  ModelSettings(tool_choice=\"required\"),\n",
    "    # reset_tool_choice = False # Max turn is 10 so after 10 calls the reset tool choice will be reset to True\n",
    ")\n",
    "\n",
    "result = Runner.run_sync(agent, \"badar and 004 what is the name and the user if from it?\")\n",
    "print(result.final_output)\n",
    "\n",
    "# print(agent.tools)"
   ]
  }
 ],
 "metadata": {
  "kernelspec": {
   "display_name": "openai-agents-sdk",
   "language": "python",
   "name": "python3"
  },
  "language_info": {
   "codemirror_mode": {
    "name": "ipython",
    "version": 3
   },
   "file_extension": ".py",
   "mimetype": "text/x-python",
   "name": "python",
   "nbconvert_exporter": "python",
   "pygments_lexer": "ipython3",
   "version": "3.11.12"
  }
 },
 "nbformat": 4,
 "nbformat_minor": 5
}
