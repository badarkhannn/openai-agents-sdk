{
 "cells": [
  {
   "cell_type": "code",
   "execution_count": 18,
   "id": "ef5a273e",
   "metadata": {},
   "outputs": [],
   "source": [
    "import nest_asyncio\n",
    "nest_asyncio.apply()"
   ]
  },
  {
   "cell_type": "code",
   "execution_count": 19,
   "id": "0772be16",
   "metadata": {},
   "outputs": [
    {
     "name": "stdout",
     "output_type": "stream",
     "text": [
      "Resutl: (2, 3, 4)\n",
      "Type: <class 'tuple'>\n"
     ]
    }
   ],
   "source": [
    "# Genetric\n",
    "from typing import TypeVar\n",
    "T = TypeVar('T')\n",
    "\n",
    "def get_quiz_questions(quiz: T) -> list[T]:\n",
    "    return quiz\n",
    "\n",
    "# Example usage\n",
    "result = get_quiz_questions(\"Hello\")\n",
    "result = get_quiz_questions((2, 3, 4))\n",
    "print(f\"Resutl: {result}\")\n",
    "print(f\"Type: {type(result)}\")"
   ]
  },
  {
   "cell_type": "code",
   "execution_count": 20,
   "id": "d1281643",
   "metadata": {},
   "outputs": [
    {
     "name": "stdout",
     "output_type": "stream",
     "text": [
      "Output: id=1 title='Sample Quiz' question='What is the capital of France?'\n",
      "Type: <class '__main__.Quiz'>\n"
     ]
    }
   ],
   "source": [
    "from pydantic import BaseModel, Field\n",
    "from typing import TypeVar\n",
    "\n",
    "T = TypeVar('T')\n",
    "\n",
    "class Quiz(BaseModel):\n",
    "    id: T\n",
    "    title: T\n",
    "    question: T \n",
    "\n",
    "output = Quiz(id=1, title=\"Sample Quiz\", question=\"What is the capital of France?\")\n",
    "print(f\"Output: {output}\")\n",
    "print(f\"Type: {type(output)}\")"
   ]
  },
  {
   "cell_type": "code",
   "execution_count": 24,
   "id": "d954775b",
   "metadata": {},
   "outputs": [
    {
     "name": "stdout",
     "output_type": "stream",
     "text": [
      "Agent QuizAgent started with context: RunContextWrapper(context=None, usage=Usage(requests=0, input_tokens=0, input_tokens_details=InputTokensDetails(cached_tokens=0), output_tokens=0, output_tokens_details=OutputTokensDetails(reasoning_tokens=0), total_tokens=0))\n",
      "Agent QuizAgent ended with context: RunContextWrapper(context=None, usage=Usage(requests=1, input_tokens=22, input_tokens_details=InputTokensDetails(cached_tokens=0), output_tokens=17, output_tokens_details=OutputTokensDetails(reasoning_tokens=0), total_tokens=39))\n",
      "Sure! Here's a question for you:\n",
      "\n",
      "What is the capital city of Japan?\n"
     ]
    }
   ],
   "source": [
    "## Run Hook\n",
    "from agents import Agent, Runner, RunHooks\n",
    "\n",
    "class MycustomHook(RunHooks):\n",
    "\n",
    "    async def on_agent_start(self, context, agent,):\n",
    "        print(f\"Agent {agent.name} started with context: {context}\")\n",
    "\n",
    "    async def on_agent_end(self, context, agent, output):\n",
    "        print(f\"Agent {agent.name} ended with context: {context}\")\n",
    "\n",
    "##NOTE: Tool ka code out in Run Hook mein hamesha \"str\" he hogaa.\n",
    "\n",
    "agent = Agent(name=\"QuizAgent\", instructions=\"Answer the quiz questions.\")\n",
    "result = Runner.run_sync(agent, input=\"Generate a one question quiz.\", hooks=MycustomHook())\n",
    "print(result.final_output)"
   ]
  },
  {
   "cell_type": "code",
   "execution_count": 25,
   "id": "16b63400",
   "metadata": {},
   "outputs": [
    {
     "name": "stdout",
     "output_type": "stream",
     "text": [
      "Agent QuizAgent started with context: RunContextWrapper(context=None, usage=Usage(requests=0, input_tokens=0, input_tokens_details=InputTokensDetails(cached_tokens=0), output_tokens=0, output_tokens_details=OutputTokensDetails(reasoning_tokens=0), total_tokens=0)) with output: id=1 title='Sample Quiz' question='What is the capital of France?'\n"
     ]
    },
    {
     "name": "stdout",
     "output_type": "stream",
     "text": [
      "Agent QuizAgent ended with context: RunContextWrapper(context=None, usage=Usage(requests=1, input_tokens=22, input_tokens_details=InputTokensDetails(cached_tokens=0), output_tokens=47, output_tokens_details=OutputTokensDetails(reasoning_tokens=0), total_tokens=69)) with output: Sure! Here's a quiz question for you:\n",
      "\n",
      "**What is the primary chemical element found in the composition of diamonds?**\n",
      "\n",
      "A) Carbon  \n",
      "B) Silicon  \n",
      "C) Oxygen  \n",
      "D) Hydrogen  \n",
      "\n",
      "Please choose the correct answer.\n",
      "Sure! Here's a quiz question for you:\n",
      "\n",
      "**What is the primary chemical element found in the composition of diamonds?**\n",
      "\n",
      "A) Carbon  \n",
      "B) Silicon  \n",
      "C) Oxygen  \n",
      "D) Hydrogen  \n",
      "\n",
      "Please choose the correct answer.\n"
     ]
    }
   ],
   "source": [
    "## Run Hook\n",
    "from agents import Agent, Runner, AgentHooks\n",
    "\n",
    "class MycustomHook(AgentHooks):\n",
    "\n",
    "    async def on_start(self, context, agent):\n",
    "        print(f\"Agent {agent.name} started with context: {context} with output: {output}\")\n",
    "\n",
    "    async def on_end(self, context, agent, output):\n",
    "        print(f\"Agent {agent.name} ended with context: {context} with output: {output}\")\n",
    "\n",
    "##NOTE: Tool ka code out in Run Hook mein hamesha \"str\" he hogaa.\n",
    "\n",
    "agent = Agent(name=\"QuizAgent\", instructions=\"Answer the quiz questions.\", hooks=MycustomHook())\n",
    "result = Runner.run_sync(agent, input=\"Generate a one question quiz.\")\n",
    "print(result.final_output)"
   ]
  },
  {
   "cell_type": "code",
   "execution_count": null,
   "id": "1840df42",
   "metadata": {},
   "outputs": [
    {
     "name": "stdout",
     "output_type": "stream",
     "text": [
      "Agent QuizAgent started with context: Badar Khan with output: id=1 title='Sample Quiz' question='What is the capital of France?'\n",
      "Agent QuizAgent ended with context: RunContextWrapper(context=Context(user_name='Badar Khan', is_premium=True), usage=Usage(requests=1, input_tokens=89, input_tokens_details=InputTokensDetails(cached_tokens=0), output_tokens=37, output_tokens_details=OutputTokensDetails(reasoning_tokens=0), total_tokens=126)) with output: question='What is the capital of France?' answer='A) Berlin\\nB) London\\nC) Paris\\nD) Madrid' correct_answer='C) Paris'\n",
      "question='What is the capital of France?' answer='A) Berlin\\nB) London\\nC) Paris\\nD) Madrid' correct_answer='C) Paris'\n"
     ]
    }
   ],
   "source": [
    "## Context \n",
    "\n",
    "## Run Hook\n",
    "from agents import Agent, Runner, AgentHooks, RunContextWrapper\n",
    "from dataclasses import dataclass\n",
    "from pydantic import BaseModel, Field\n",
    "\n",
    "@dataclass\n",
    "class Context:\n",
    "    user_name: str\n",
    "    is_premium: bool\n",
    "\n",
    "\n",
    "class MycustomHook(AgentHooks):\n",
    "\n",
    "    async def on_start(self, context: RunContextWrapper[Context], agent):\n",
    "        print(f\"Agent {agent.name} started with context: {context.context.user_name} with output: {output}\")\n",
    "\n",
    "    async def on_end(self, context, agent, output):\n",
    "        print(f\"Agent {agent.name} ended with context: {context} with output: {output}\")\n",
    "\n",
    "class OutputStructured(BaseModel):\n",
    "    question: str\n",
    "    answer: str = Field(description=\"List of answer options for the question\")\n",
    "    correct_answer: str\n",
    "\n",
    "\n",
    "user_data = Context(user_name=\"Badar Khan\", is_premium=True)\n",
    "\n",
    "agent = Agent(name=\"QuizAgent\", instructions=\"Answer the quiz questions.\", hooks=MycustomHook(), output_type=OutputStructured)\n",
    "result = Runner.run_sync(agent, input=\"Generate a 3 question quiz.\", context=user_data)\n",
    "print(result.final_output)"
   ]
  },
  {
   "cell_type": "code",
   "execution_count": 33,
   "id": "0752a106",
   "metadata": {},
   "outputs": [
    {
     "name": "stdout",
     "output_type": "stream",
     "text": [
      "Agent QuizAgent started with context: Badar Khan with output: id=1 title='Sample Quiz' question='What is the capital of France?'\n",
      "Agent QuizAgent ended with context: RunContextWrapper(context=Context(user_name='Badar Khan', is_premium=True), usage=Usage(requests=1, input_tokens=85, input_tokens_details=InputTokensDetails(cached_tokens=0), output_tokens=71, output_tokens_details=OutputTokensDetails(reasoning_tokens=0), total_tokens=156)) with output: question=\"Which element has the chemical symbol 'O'?\" answer='Nitrogen' correct_answer='Oxygen'\n",
      "question=\"Which element has the chemical symbol 'O'?\" answer='Nitrogen' correct_answer='Oxygen'\n"
     ]
    }
   ],
   "source": [
    "## Context \n",
    "\n",
    "## Run Hook\n",
    "from agents import Agent, Runner, AgentHooks, RunContextWrapper\n",
    "from dataclasses import dataclass\n",
    "from pydantic import BaseModel, Field\n",
    "\n",
    "@dataclass\n",
    "class Context:\n",
    "    user_name: str\n",
    "    is_premium: bool\n",
    "\n",
    "\n",
    "class MycustomHook(AgentHooks):\n",
    "\n",
    "    async def on_start(self, context: RunContextWrapper[Context], agent):\n",
    "        print(f\"Agent {agent.name} started with context: {context.context.user_name} with output: {output}\")\n",
    "\n",
    "    async def on_end(self, context, agent, output):\n",
    "        print(f\"Agent {agent.name} ended with context: {context} with output: {output}\")\n",
    "\n",
    "class OutputStructured(BaseModel):\n",
    "    question: str\n",
    "    answer: str\n",
    "    correct_answer: str\n",
    "\n",
    "\n",
    "user_data = Context(user_name=\"Badar Khan\", is_premium=True)\n",
    "\n",
    "agent = Agent(name=\"QuizAgent\", instructions=\"Answer the quiz questions.\", hooks=MycustomHook(), output_type=OutputStructured)\n",
    "result = Runner.run_sync(agent, input=\"Generate a 3 question quiz.\", context=user_data)\n",
    "print(result.final_output)"
   ]
  }
 ],
 "metadata": {
  "kernelspec": {
   "display_name": "openai-agents-sdk",
   "language": "python",
   "name": "python3"
  },
  "language_info": {
   "codemirror_mode": {
    "name": "ipython",
    "version": 3
   },
   "file_extension": ".py",
   "mimetype": "text/x-python",
   "name": "python",
   "nbconvert_exporter": "python",
   "pygments_lexer": "ipython3",
   "version": "3.11.12"
  }
 },
 "nbformat": 4,
 "nbformat_minor": 5
}
