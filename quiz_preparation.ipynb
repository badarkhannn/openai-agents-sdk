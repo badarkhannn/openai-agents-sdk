{
 "cells": [
  {
   "cell_type": "code",
   "execution_count": 1,
   "id": "ef5a273e",
   "metadata": {},
   "outputs": [],
   "source": [
    "import nest_asyncio\n",
    "nest_asyncio.apply()"
   ]
  },
  {
   "cell_type": "code",
   "execution_count": 15,
   "id": "0772be16",
   "metadata": {},
   "outputs": [
    {
     "name": "stdout",
     "output_type": "stream",
     "text": [
      "Resutl: (2, 3, 4)\n",
      "Type: <class 'tuple'>\n"
     ]
    }
   ],
   "source": [
    "# Genetric\n",
    "from typing import TypeVar\n",
    "T = TypeVar('T')\n",
    "\n",
    "def get_quiz_questions(quiz: T) -> list[T]:\n",
    "    return quiz\n",
    "\n",
    "# Example usage\n",
    "result = get_quiz_questions(\"Hello\")\n",
    "result = get_quiz_questions((2, 3, 4))\n",
    "print(f\"Resutl: {result}\")\n",
    "print(f\"Type: {type(result)}\")"
   ]
  },
  {
   "cell_type": "code",
   "execution_count": 16,
   "id": "d1281643",
   "metadata": {},
   "outputs": [
    {
     "name": "stdout",
     "output_type": "stream",
     "text": [
      "Output: id=1 title='Sample Quiz' question='What is the capital of France?'\n",
      "Type: <class '__main__.Quiz'>\n"
     ]
    }
   ],
   "source": [
    "from pydantic import BaseModel, Field\n",
    "from typing import TypeVar\n",
    "\n",
    "T = TypeVar('T')\n",
    "\n",
    "class Quiz(BaseModel):\n",
    "    id: T\n",
    "    title: T\n",
    "    question: T \n",
    "\n",
    "output = Quiz(id=1, title=\"Sample Quiz\", question=\"What is the capital of France?\")\n",
    "print(f\"Output: {output}\")\n",
    "print(f\"Type: {type(output)}\")"
   ]
  },
  {
   "cell_type": "code",
   "execution_count": 23,
   "id": "d954775b",
   "metadata": {},
   "outputs": [
    {
     "name": "stdout",
     "output_type": "stream",
     "text": [
      "Agent QuizAgent started with context: RunContextWrapper(context=None, usage=Usage(requests=0, input_tokens=0, input_tokens_details=InputTokensDetails(cached_tokens=0), output_tokens=0, output_tokens_details=OutputTokensDetails(reasoning_tokens=0), total_tokens=0))\n",
      "Agent QuizAgent ended with context: RunContextWrapper(context=None, usage=Usage(requests=1, input_tokens=22, input_tokens_details=InputTokensDetails(cached_tokens=0), output_tokens=35, output_tokens_details=OutputTokensDetails(reasoning_tokens=0), total_tokens=57))\n",
      "**Question:**\n",
      "\n",
      "What is the capital city of Japan?\n",
      "\n",
      "A) Beijing  \n",
      "B) Seoul  \n",
      "C) Tokyo  \n",
      "D) Bangkok\n",
      "\n",
      "*Choose the correct answer.*\n"
     ]
    },
    {
     "name": "stderr",
     "output_type": "stream",
     "text": [
      "C:\\Users\\Blue\\AppData\\Local\\Temp\\ipykernel_20652\\862899514.py:15: RuntimeWarning: coroutine 'Runner.run' was never awaited\n",
      "  result = Runner.run_sync(agent, input=\"Generate a one question quiz.\", hooks=MycustomHook())\n",
      "RuntimeWarning: Enable tracemalloc to get the object allocation traceback\n"
     ]
    }
   ],
   "source": [
    "## Run Hook\n",
    "from agents import Agent, Runner, RunHooks\n",
    "\n",
    "class MycustomHook(RunHooks):\n",
    "\n",
    "    async def on_agent_start(self, context, agent):\n",
    "        print(f\"Agent {agent.name} started with context: {context}\")\n",
    "\n",
    "    async def on_agent_end(self, context, agent, output):\n",
    "        print(f\"Agent {agent.name} ended with context: {context}\")\n",
    "\n",
    "##NOTE: Tool ka code out in Run Hook mein hamesha \"str\" he hogaa.\n",
    "\n",
    "agent = Agent(name=\"QuizAgent\", instructions=\"Answer the quiz questions.\")\n",
    "result = Runner.run_sync(agent, input=\"Generate a one question quiz.\", hooks=MycustomHook())\n",
    "print(result.final_output)"
   ]
  }
 ],
 "metadata": {
  "kernelspec": {
   "display_name": "openai-agents-sdk",
   "language": "python",
   "name": "python3"
  },
  "language_info": {
   "codemirror_mode": {
    "name": "ipython",
    "version": 3
   },
   "file_extension": ".py",
   "mimetype": "text/x-python",
   "name": "python",
   "nbconvert_exporter": "python",
   "pygments_lexer": "ipython3",
   "version": "3.11.12"
  }
 },
 "nbformat": 4,
 "nbformat_minor": 5
}
